{
 "cells": [
  {
   "cell_type": "markdown",
   "id": "448e5670",
   "metadata": {},
   "source": [
    "## Digital Technologies and Data-Driven Business\n",
    "# Exercises for Day 1 of the Boot Camp\n",
    "\n",
    "Remember to read the instructions carefully and have fun!"
   ]
  },
  {
   "cell_type": "markdown",
   "id": "79c7d40d",
   "metadata": {},
   "source": [
    "# Introduction to Python: Hello World"
   ]
  },
  {
   "cell_type": "markdown",
   "id": "f252cbb9",
   "metadata": {},
   "source": [
    "Traditionally, every time that we start learning a new programming language, we start with a program that prints \"Hello World\" in the output.\n",
    "\n",
    "Please print \"Hello World\" using the following cell."
   ]
  },
  {
   "cell_type": "code",
   "execution_count": 1,
   "id": "25adc563",
   "metadata": {},
   "outputs": [
    {
     "name": "stdout",
     "output_type": "stream",
     "text": [
      "Hello World\n"
     ]
    }
   ],
   "source": [
    "print(\"Hello World\")"
   ]
  },
  {
   "cell_type": "markdown",
   "id": "3b79d9fd",
   "metadata": {},
   "source": [
    "... and a message you come up with."
   ]
  },
  {
   "cell_type": "code",
   "execution_count": 2,
   "id": "5510b738",
   "metadata": {},
   "outputs": [
    {
     "name": "stdout",
     "output_type": "stream",
     "text": [
      "I don't like waffles\n"
     ]
    }
   ],
   "source": [
    "print(\"I don't like waffles\")"
   ]
  },
  {
   "cell_type": "markdown",
   "id": "1df6511e",
   "metadata": {},
   "source": [
    "# 1. Indentation\n",
    "\n",
    "Indentation is used in Python to structure the code and make it more readable. Take as an example the `for` loop below, where the `print` statement is indented one level to the right, indicating that the print needs to be done for each character in the string named `name`:"
   ]
  },
  {
   "cell_type": "code",
   "execution_count": 3,
   "id": "6cc68c15-d5c7-4e2e-bb0b-b5d1496e92fd",
   "metadata": {},
   "outputs": [
    {
     "name": "stdout",
     "output_type": "stream",
     "text": [
      "A\n",
      "l\n",
      "e\n",
      "x\n",
      "a\n",
      "n\n",
      "d\n",
      "e\n",
      "r\n"
     ]
    }
   ],
   "source": [
    "name = \"Alexander\"\n",
    "for i in name:\n",
    "    print(i)"
   ]
  },
  {
   "cell_type": "markdown",
   "id": "911abecd",
   "metadata": {},
   "source": [
    "You can read more about indentation [here](https://www.w3schools.com/python/gloss_python_indentation.asp)."
   ]
  },
  {
   "cell_type": "markdown",
   "id": "24cd7853-205a-49c0-a5fd-05e1424a07e4",
   "metadata": {},
   "source": [
    "## Task 1.1\n",
    "Wrong indentation can lead to undesired outcomes or even `IndentationErrors`.\n",
    "\n",
    "Try to fix the code below so that we can count how many times the letter \"e\" appears in the string `\"Alexander\"`."
   ]
  },
  {
   "cell_type": "code",
   "execution_count": 4,
   "id": "bb710dae",
   "metadata": {},
   "outputs": [
    {
     "name": "stdout",
     "output_type": "stream",
     "text": [
      "2\n"
     ]
    }
   ],
   "source": [
    "name = 'Alexander'\n",
    "counter = 0\n",
    "\n",
    "for i in name: \n",
    "    if i == \"e\":\n",
    "     counter += 1\n",
    "        \n",
    "print(counter)"
   ]
  },
  {
   "cell_type": "markdown",
   "id": "65d78246",
   "metadata": {},
   "source": [
    "## Task 1.2\n",
    "\n",
    "Given the code below, which takes an integer as input from the user by using the `input()` function, try to fix the indentation to make sure that the code can be executed without errors."
   ]
  },
  {
   "cell_type": "code",
   "execution_count": 2,
   "id": "9860160a",
   "metadata": {},
   "outputs": [
    {
     "name": "stdout",
     "output_type": "stream",
     "text": [
      "Your number is below 50\n"
     ]
    }
   ],
   "source": [
    "number = int(input())\n",
    "if number < 50:\n",
    " print(\"Your number is below 50\")\n",
    "elif number < 80:\n",
    " print(\"Your number is below 80\")\n",
    "else:\n",
    " print(\"Your number is above 80\")"
   ]
  },
  {
   "cell_type": "markdown",
   "id": "4542ad91",
   "metadata": {},
   "source": [
    "# 2. Imports\n",
    "\n",
    "Another important feature of Python is the ability to use public modules. A module is simply a file with a `.py` extension, containing Python code. If we wanted to access the variables and functions defined in a file named `some_module.py`, we could use the following syntax:"
   ]
  },
  {
   "cell_type": "markdown",
   "id": "26eedbdd",
   "metadata": {},
   "source": [
    "```\n",
    "import some_module\n",
    "result = some_module.f(5)\n",
    "pi = some_module.PI\n",
    "```"
   ]
  },
  {
   "cell_type": "markdown",
   "id": "8f61dd41",
   "metadata": {},
   "source": [
    "For instance, to be able to print our current folder, we can use a module called `os` which has a function `getcwd()`, which stands for \"get working (current) directory\", as follows:"
   ]
  },
  {
   "cell_type": "code",
   "execution_count": 3,
   "id": "4cad6091",
   "metadata": {},
   "outputs": [
    {
     "name": "stdout",
     "output_type": "stream",
     "text": [
      "c:\\Users\\ravn1\\Desktop\\Programming\n"
     ]
    }
   ],
   "source": [
    "import os\n",
    "\n",
    "print(os.getcwd())"
   ]
  },
  {
   "cell_type": "markdown",
   "id": "6aada055",
   "metadata": {},
   "source": [
    "## Task 2.1\n",
    "\n",
    "Now, import a module called `math` and use its function `sqrt()` to obtain the result of 16 squared.\n",
    "\n",
    "You can read more about this module [here](https://docs.python.org/3/library/math.html)."
   ]
  },
  {
   "cell_type": "code",
   "execution_count": 6,
   "id": "d1ab0d6a",
   "metadata": {},
   "outputs": [
    {
     "name": "stdout",
     "output_type": "stream",
     "text": [
      "4.0\n"
     ]
    }
   ],
   "source": [
    "import math\n",
    "\n",
    "Result=math.sqrt(16)\n",
    "\n",
    "print(Result)"
   ]
  },
  {
   "cell_type": "markdown",
   "id": "5c970bc2",
   "metadata": {},
   "source": [
    "## Task 2.2\n",
    "\n",
    "Look for information on how to use modules `random` and `statistics` and import them here.\n",
    "\n",
    "Generate two random numbers from 0 to 10 using the `random` module and calculate the mean of the numbers you generated using the `statistics` module.\n",
    "\n",
    "Print the numbers you generated and the mean in one statement as: `\"The numbers we generated are 0, 2 and the mean is 1\"`"
   ]
  },
  {
   "cell_type": "code",
   "execution_count": 30,
   "id": "0a809273",
   "metadata": {},
   "outputs": [
    {
     "name": "stdout",
     "output_type": "stream",
     "text": [
      "The numbers we generated are 6 10 and the mean is 8\n"
     ]
    }
   ],
   "source": [
    "import random\n",
    "import statistics\n",
    "\n",
    "Number1=random.randint(0, 10)\n",
    "Number2=random.randint(0, 10)\n",
    "Mean= statistics.mean([Number2,Number1])\n",
    "print(\"The numbers we generated are\",Number1,Number2,\"and the mean is\",Mean)"
   ]
  },
  {
   "cell_type": "markdown",
   "id": "8aabc80e",
   "metadata": {},
   "source": [
    "# 3. Branching\n",
    "\n",
    "\n",
    "We can use control flow statements to execute parts of the code only when a certain condition is met (branching). These control flow statements use the following syntax:\n",
    "\n",
    "```\n",
    "if condition1:\n",
    "    do something\n",
    "elif condition2:\n",
    "    do something different\n",
    "else:\n",
    "    do something else if none of the above conditions are met\n",
    "```\n",
    "\n",
    "\n",
    "You can read more about this [here](https://docs.python.org/3/tutorial/controlflow.html)."
   ]
  },
  {
   "cell_type": "markdown",
   "id": "d6b3fab6",
   "metadata": {},
   "source": [
    "## Task 3.1\n",
    "\n",
    "Let's start by reading some code using this statements first - explain with your own words what the code below is doing:"
   ]
  },
  {
   "cell_type": "code",
   "execution_count": 40,
   "id": "8dafc2ed",
   "metadata": {
    "scrolled": true
   },
   "outputs": [
    {
     "name": "stdout",
     "output_type": "stream",
     "text": [
      "2024\n"
     ]
    }
   ],
   "source": [
    "dictionary = {\"year\": \"2023\", \"month\": \"September\"}\n",
    "default_value = '2024'\n",
    "key = 'year'\n",
    "\n",
    "if key in dictionary:\n",
    "    value = dictionary[key]\n",
    "else:\n",
    "    value = default_value\n",
    "    \n",
    "print(value)"
   ]
  },
  {
   "cell_type": "markdown",
   "id": "5f04cf9c",
   "metadata": {},
   "source": [
    "Explain here: "
   ]
  },
  {
   "cell_type": "markdown",
   "id": "472d42c9",
   "metadata": {},
   "source": [
    "The code is using an if statement that gets the year stated in the dictionary and prints it if the year doesn't exist it will then assign a new value to the variable and then print it"
   ]
  },
  {
   "cell_type": "markdown",
   "id": "9df90781",
   "metadata": {},
   "source": [
    "## Task 3.2\n",
    "\n",
    "Now let's work on creating our own code. \n",
    "\n",
    "Create a program that prints `value below 100` if a value stored in a variable is below 100. The code should print `value equal or above 100` if the value is equal or above that number."
   ]
  },
  {
   "cell_type": "code",
   "execution_count": 51,
   "id": "e2953290",
   "metadata": {},
   "outputs": [
    {
     "name": "stdout",
     "output_type": "stream",
     "text": [
      "Value is equal or above 100\n"
     ]
    }
   ],
   "source": [
    "Value=100\n",
    "\n",
    "if Value < 100:\n",
    "    print(\"Value is below 100 \")\n",
    "elif Value >= 100:\n",
    "    print(\"Value is equal or above 100\")"
   ]
  },
  {
   "cell_type": "markdown",
   "id": "34fa108f",
   "metadata": {},
   "source": [
    "## Task 3.3\n",
    "\n",
    "Now, we will try to integrate control flow with string methods. \n",
    "\n",
    "On this task we are going to ask the user for a name. If the name starts with letter A (or a), the program should say `Yes, that is correct`. If it does not, it should print the first letter of the name in uppercase. \n",
    "\n",
    "Remember that you can find a method for checking the first letter of a string in the following [link](https://www.w3schools.com/python/python_ref_string.asp)."
   ]
  },
  {
   "cell_type": "code",
   "execution_count": 71,
   "id": "fee6c13c",
   "metadata": {},
   "outputs": [
    {
     "name": "stdout",
     "output_type": "stream",
     "text": [
      "Yes that is correct\n"
     ]
    }
   ],
   "source": [
    "Name=input(str(\"\"))\n",
    "\n",
    "if Name[0] == \"A\" or Name[0] == \"a\":\n",
    "    print(\"Yes that is correct\")\n",
    "elif Name[0].islower():\n",
    "    print(Name.capitalize())"
   ]
  },
  {
   "cell_type": "markdown",
   "id": "a966a653",
   "metadata": {},
   "source": [
    "## Task 3.4\n",
    "\n",
    "Now, we would like to classify different female and male runners into categories using nested if/else statements. If a person is aged below 20, is classified as junior. If a person is between 20 and 34, both included, is considered senior. If the person is above 35, is considered a veteran. Write if/else statements to check if the person is female or male and which category they belong to. Write print statements as appropriate (e.g., `F junior`)."
   ]
  },
  {
   "cell_type": "code",
   "execution_count": 82,
   "id": "ad96fb85",
   "metadata": {},
   "outputs": [
    {
     "name": "stdout",
     "output_type": "stream",
     "text": [
      "You belong in the male junior category\n"
     ]
    }
   ],
   "source": [
    "def menu():\n",
    "    gender = input(str(\"\"))\n",
    "    if gender == \"boy\" or gender == \"male\":\n",
    "        input(int())\n",
    "        if int() < 20:\n",
    "         print(\"You belong in the male junior category\")\n",
    "        elif int() <=34:\n",
    "         print(\"You belong in the male senior category\")\n",
    "        elif aint() >=35:\n",
    "         print(\"You belong in the male veteran category\")\n",
    "    if gender == \"girl\" or gender == \"female\":\n",
    "        input(int())\n",
    "        if int() < 20:\n",
    "         print(\"You belong in the female junior category\")\n",
    "        elif int() <=34:\n",
    "         print(\"You belong in the female senior category\")\n",
    "        elif int() >=35:\n",
    "         print(\"You belong in the female veteran category\")\n",
    "\n",
    "menu()\n"
   ]
  },
  {
   "cell_type": "markdown",
   "id": "76ad446d",
   "metadata": {},
   "source": [
    "## Task 3.5\n",
    "\n",
    "We would like to create a program that is able to determine if a person is elegible to vote based on their age and citizenship. The values of these variables are given below. \n",
    "\n",
    "If the person is aged 18 or above and the citizenhip is `True`, the person is elegible to vote. If the person is not elegible to vote, include the corresponding print statement.\n",
    "\n",
    "Write if/else statement using the binary operator `and`."
   ]
  },
  {
   "cell_type": "code",
   "execution_count": 93,
   "id": "8f7b62ea",
   "metadata": {},
   "outputs": [
    {
     "name": "stdout",
     "output_type": "stream",
     "text": [
      "you cannot vote\n"
     ]
    }
   ],
   "source": [
    "age = 18\n",
    "citizenship = True\n",
    "\n",
    "if age >= 18 and citizenship:\n",
    "    print(\"you can vote\")\n",
    "elif age < 18 or citizenship == False:\n",
    "    print(\"you cannot vote\")\n"
   ]
  },
  {
   "cell_type": "markdown",
   "id": "e9456724-296b-4a55-ab72-918549fe7777",
   "metadata": {},
   "source": [
    "## Task 3.6\n",
    "All rides at Legoland Billund require guests to have a certain height. The roller coaster _Flying Eagle_ requires guests to be 100 cm tall to be allowed onto the ride. Those with a height below 120 cm need to be accompanied by an adult. Please write a program that prompts for the user's height and, depending on the height, prints an appropriate message to the screen about whether the user is allowed to ride alone, with a parent, or not at all."
   ]
  },
  {
   "cell_type": "code",
   "execution_count": 115,
   "id": "67f3d54b",
   "metadata": {},
   "outputs": [
    {
     "name": "stdout",
     "output_type": "stream",
     "text": [
      "You are allowed to ride alone.\n"
     ]
    }
   ],
   "source": [
    "height = int(input())\n",
    "\n",
    "if height >= 100:\n",
    "    if height < 120:\n",
    "        print(\"You are allowed to ride, but you need to be accompanied by an adult.\")\n",
    "    else:\n",
    "        print(\"You are allowed to ride alone.\")\n",
    "else:\n",
    "    print(\"Sorry, you are not tall enough to ride.\")"
   ]
  },
  {
   "cell_type": "markdown",
   "id": "7c173844",
   "metadata": {},
   "source": [
    "# 4. Loops\n",
    "\n",
    "Loops are commonly used in Python code. In this course, we will take a look at [for](https://www.w3schools.com/python/python_for_loops.asp) and [while](https://www.w3schools.com/python/python_while_loops.asp) loops. `for` loops are employed to iterate over elements from a variable. On the other hand, `while` loops are used to conduct a specific part of the code as long as a certain condition is met."
   ]
  },
  {
   "cell_type": "markdown",
   "id": "694067fc-0eb6-4b49-bd24-46758f8f7613",
   "metadata": {},
   "source": [
    "## Task 4.1\n",
    "Write a program that uses a `for` loop to print only the even integers from 1 to 20."
   ]
  },
  {
   "cell_type": "code",
   "execution_count": 116,
   "id": "83289c4c-4f41-4a62-8e28-8b486130648f",
   "metadata": {},
   "outputs": [
    {
     "name": "stdout",
     "output_type": "stream",
     "text": [
      "2\n",
      "4\n",
      "6\n",
      "8\n",
      "10\n",
      "12\n",
      "14\n",
      "16\n",
      "18\n",
      "20\n"
     ]
    }
   ],
   "source": [
    "for number in range(1, 21):\n",
    "    \n",
    "    if number % 2 == 0:\n",
    "        print(number)"
   ]
  },
  {
   "cell_type": "markdown",
   "id": "67779808-2b1e-4aa5-ba3b-e9f200b85eae",
   "metadata": {},
   "source": [
    "## Task 4.1\n",
    "Write a program that uses a `while` loop to print only the even integers from 1 to 20."
   ]
  },
  {
   "cell_type": "code",
   "execution_count": 128,
   "id": "f7c6f9f0-ab79-47df-b96f-d46c72a3cc6d",
   "metadata": {},
   "outputs": [
    {
     "name": "stdout",
     "output_type": "stream",
     "text": [
      "2\n",
      "4\n",
      "6\n",
      "8\n",
      "10\n",
      "12\n",
      "14\n",
      "16\n",
      "18\n",
      "20\n"
     ]
    }
   ],
   "source": [
    "i=1\n",
    "while i <=20:\n",
    " i+=1\n",
    " if i % 2 == 0:\n",
    "        print(i)\n"
   ]
  },
  {
   "cell_type": "markdown",
   "id": "1737cfad",
   "metadata": {},
   "source": [
    "## Task 4.3\n",
    "Let's start taking a look at for loops. Given the lists below create a for loop that goes through evey letter of the first list and then checks if a letter is present in a second list. If not present, prints the letter."
   ]
  },
  {
   "cell_type": "code",
   "execution_count": 129,
   "id": "ec837702",
   "metadata": {
    "scrolled": true
   },
   "outputs": [
    {
     "name": "stdout",
     "output_type": "stream",
     "text": [
      "e\n",
      "v\n"
     ]
    }
   ],
   "source": [
    "list_of_letters = [\"a\", \"e\", \"z\", \"a\", \"v\"]\n",
    "list_of_letters_2 = [\"o\", \"r\", \"z\", \"a\", \"y\"]\n",
    "\n",
    "for letter in list_of_letters:\n",
    "    if letter not in list_of_letters_2:\n",
    "        print(letter)"
   ]
  },
  {
   "cell_type": "markdown",
   "id": "67920b40",
   "metadata": {},
   "source": [
    "## Task 4.4\n",
    "Create a `while` loop that is able to compute the average of a list of numbers given below."
   ]
  },
  {
   "cell_type": "code",
   "execution_count": 141,
   "id": "c0a7e3e0",
   "metadata": {},
   "outputs": [
    {
     "name": "stdout",
     "output_type": "stream",
     "text": [
      "range(0, 10)\n",
      "Average of list:  4\n"
     ]
    }
   ],
   "source": [
    "my_list = range(10)\n",
    "print(my_list)\n",
    "\n",
    "average = sum(my_list)/len(my_list)\n",
    "\n",
    "print(\"Average of list: \", round(average))"
   ]
  },
  {
   "cell_type": "markdown",
   "id": "043b42c7",
   "metadata": {},
   "source": [
    "I fail to see why a while loop is necessary when python has a sum function"
   ]
  },
  {
   "cell_type": "markdown",
   "id": "8b0e7ab0-1e87-4664-8021-3005b8160ba1",
   "metadata": {},
   "source": [
    "## Task 4.5\n",
    "\n",
    "The keywords `continue` and `break` allow us to manipulate loops. Using these keywords, please change the code below so that it does the following:\n",
    "* The lowercase letter `a` should not be printed out.\n",
    "* When the loop reaches the letter `B` it should stop. "
   ]
  },
  {
   "cell_type": "code",
   "execution_count": 142,
   "id": "3cbb2320-a58c-4a8b-ad40-31e7cae607db",
   "metadata": {},
   "outputs": [
    {
     "name": "stdout",
     "output_type": "stream",
     "text": [
      "D\n",
      "i\n",
      "g\n",
      "i\n",
      "t\n",
      "l\n",
      " \n",
      "T\n",
      "e\n",
      "c\n",
      "h\n",
      "n\n",
      "o\n",
      "l\n",
      "o\n",
      "g\n",
      "i\n",
      "e\n",
      "s\n",
      " \n",
      "n\n",
      "d\n",
      " \n",
      "D\n",
      "t\n",
      "-\n",
      "D\n",
      "r\n",
      "i\n",
      "v\n",
      "e\n",
      "n\n",
      " \n"
     ]
    }
   ],
   "source": [
    "name = \"Digital Technologies and Data-Driven Business\"\n",
    "for i in name:\n",
    " if i == \"b\" or i == \"B\":\n",
    "     break\n",
    " elif i == \"a\":\n",
    "    continue\n",
    " print(i)"
   ]
  },
  {
   "cell_type": "markdown",
   "id": "a4fc0c17",
   "metadata": {},
   "source": [
    "## Task 4.6\n",
    "\n",
    "The `pass` statement is used in Python to state that we want the code to \"do nothing\". It can be used in blocks where no action is to be taken (or as a placeholder for code not yet implemented). You can read more [here](https://www.programiz.com/python-programming/pass-statement).\n",
    "\n",
    "Design a program that tells the user:\n",
    "* \"You can increase your speed by: x\", where x is the difference between the speed limit and the user's speed, if the user is driving below the speed limit.\n",
    "* \"You are driving at the speed limit\", if the user is driving at the speed limit\n",
    "* \"You are going to get a fine if you do not decrease your speed by: y\", where y is the difference between the user's speed and the speed limit, if the user is driving above the speed limit.\n",
    "* pass, if the user's speed is equal to 0.\n",
    "\n",
    "The speed limit of the road is 100 km/h.\n",
    "\n",
    "Check the program with the three provided speed variables defined below. You can create a for loop for this purpose."
   ]
  },
  {
   "cell_type": "code",
   "execution_count": 174,
   "id": "095fe31a",
   "metadata": {},
   "outputs": [
    {
     "name": "stdout",
     "output_type": "stream",
     "text": [
      "You can increase your speed by 60 km/h\n",
      "You are going to get a fine if you do not decrease your speed by 25 km/h\n",
      "pass\n"
     ]
    }
   ],
   "source": [
    "speed1 = 40\n",
    "speed2 = 125\n",
    "speed3 = 0\n",
    "speedlimit = 100\n",
    "\n",
    "def checkspeed(speed):\n",
    "    if speed == 0:\n",
    "        print(\"pass\")\n",
    "    elif speed < speedlimit:\n",
    "        print(\"You can increase your speed by\", speedlimit - speed,\"km/h\")\n",
    "    elif speed == speedlimit:\n",
    "        print(\"You are driving at the speed limit\")\n",
    "    else:\n",
    "        print(\"You are going to get a fine if you do not decrease your speed by\", speed - speedlimit,\"km/h\")\n",
    "\n",
    "speeds = [speed1, speed2, speed3]\n",
    "\n",
    "for speed in speeds:\n",
    "    checkspeed(speed)"
   ]
  },
  {
   "cell_type": "markdown",
   "id": "81634c00",
   "metadata": {},
   "source": [
    "in this example i use a couple of unnecessary methods such as f strings and a function"
   ]
  },
  {
   "cell_type": "markdown",
   "id": "d7bed8da",
   "metadata": {},
   "source": [
    "# 5. Range\n",
    "\n",
    "The range function is widely used in Python. This function is able to return a sequence of numbers, from a desired starting point. You can see more [here](https://www.w3schools.com/python/ref_func_range.asp).\n",
    "\n",
    "It's syntax is as follows:\n",
    "\n",
    "`range(start, stop, step)`"
   ]
  },
  {
   "cell_type": "markdown",
   "id": "5f59191b",
   "metadata": {},
   "source": [
    "## Task 5.1\n",
    "Modify the range below so that it takes steps of 2."
   ]
  },
  {
   "cell_type": "code",
   "execution_count": null,
   "id": "5068353d",
   "metadata": {},
   "outputs": [],
   "source": [
    "for i in range(0,100,2):\n",
    "    if i < 10:\n",
    "        print(i)"
   ]
  },
  {
   "cell_type": "markdown",
   "id": "5bf40673",
   "metadata": {},
   "source": [
    "## Task 5.2\n",
    "Create a list that contains numbers from 0 to 9 using the range function."
   ]
  },
  {
   "cell_type": "code",
   "execution_count": 153,
   "id": "fd6dda1d",
   "metadata": {},
   "outputs": [
    {
     "name": "stdout",
     "output_type": "stream",
     "text": [
      "[0, 1, 2, 3, 4, 5, 6, 7, 8, 9]\n"
     ]
    }
   ],
   "source": [
    "List1= [*range(0,10)]\n",
    "print(List1)"
   ]
  },
  {
   "cell_type": "markdown",
   "id": "915f777f",
   "metadata": {},
   "source": [
    "# 6. Built-in types\n",
    "\n",
    "Every object in Python has a data type associated with it. Here are some of the most common data types you will encounter:\n",
    "\n",
    "* `int` integer\n",
    "* `float` floating point number\n",
    "* `str` string\n",
    "* `bool` boolean\n",
    "\n",
    "We will see these data types later on in the course:\n",
    "\n",
    "* `list` lists\n",
    "* `dict` dictionary\n",
    "* `tuple` tuple\n",
    "\n",
    "You can read more about these types [here](https://www.w3schools.com/python/python_datatypes.asp).\n",
    "\n",
    "You can use the `type()` command to find out the type of a variable or an expression:"
   ]
  },
  {
   "cell_type": "code",
   "execution_count": 150,
   "id": "a29d5264",
   "metadata": {},
   "outputs": [
    {
     "data": {
      "text/plain": [
       "int"
      ]
     },
     "execution_count": 150,
     "metadata": {},
     "output_type": "execute_result"
    }
   ],
   "source": [
    "number = 0\n",
    "type(number)"
   ]
  },
  {
   "cell_type": "code",
   "execution_count": 151,
   "id": "0dbd9047",
   "metadata": {},
   "outputs": [
    {
     "data": {
      "text/plain": [
       "str"
      ]
     },
     "execution_count": 151,
     "metadata": {},
     "output_type": "execute_result"
    }
   ],
   "source": [
    "text = \"this is a string\"\n",
    "type(text)"
   ]
  },
  {
   "cell_type": "markdown",
   "id": "f3a94781",
   "metadata": {},
   "source": [
    "## Task 6.1"
   ]
  },
  {
   "cell_type": "markdown",
   "id": "6949bd3f",
   "metadata": {},
   "source": [
    "Let's start by taking a look at the different types.\n",
    "\n",
    "Create an object of a type of your choice and check that it has the type you expected. For instance, try to create a `list`."
   ]
  },
  {
   "cell_type": "code",
   "execution_count": 154,
   "id": "7d8fa5c0",
   "metadata": {},
   "outputs": [
    {
     "data": {
      "text/plain": [
       "tuple"
      ]
     },
     "execution_count": 154,
     "metadata": {},
     "output_type": "execute_result"
    }
   ],
   "source": [
    "List=(12,123,31,4,2,25,)\n",
    "type(List)"
   ]
  },
  {
   "cell_type": "markdown",
   "id": "efd7b817",
   "metadata": {},
   "source": [
    "## Task 6.2\n",
    "\n",
    "In the code below we ask the user to input something, add a `print` statement that shows the type of the inputted variable."
   ]
  },
  {
   "cell_type": "code",
   "execution_count": 155,
   "id": "808d8291",
   "metadata": {},
   "outputs": [
    {
     "name": "stdout",
     "output_type": "stream",
     "text": [
      "<class 'str'>\n"
     ]
    }
   ],
   "source": [
    "variable = input()\n",
    "print(type(variable))"
   ]
  },
  {
   "cell_type": "markdown",
   "id": "b8c66ba8",
   "metadata": {},
   "source": [
    "## Task 6.3\n",
    "\n",
    "Each built-in type has a set of built-in methods assigned. You can see more about this [here](https://www.w3schools.com/python/python_ref_string.asp)\n",
    "\n",
    "Convert the following integer into a float using a built-in method in Python and use `type()` to make sure it is correctly converted."
   ]
  },
  {
   "cell_type": "code",
   "execution_count": 156,
   "id": "554b4f76",
   "metadata": {},
   "outputs": [
    {
     "data": {
      "text/plain": [
       "float"
      ]
     },
     "execution_count": 156,
     "metadata": {},
     "output_type": "execute_result"
    }
   ],
   "source": [
    "integer_number = 4\n",
    "Float_number=float(integer_number)\n",
    "\n",
    "type(Float_number)"
   ]
  },
  {
   "cell_type": "markdown",
   "id": "f0941693",
   "metadata": {},
   "source": [
    "## Task 6.4\n",
    "\n",
    "Look for a string method, in the link above, that allows you to count how many times a letter occurs in a string. Then, count how many times the letter \"i\" occurs in the variable `text` below."
   ]
  },
  {
   "cell_type": "code",
   "execution_count": 158,
   "id": "07b8c4d4",
   "metadata": {},
   "outputs": [
    {
     "name": "stdout",
     "output_type": "stream",
     "text": [
      "3\n"
     ]
    }
   ],
   "source": [
    "text = 'This is a string'\n",
    "\n",
    "B=text.count('i')\n",
    "\n",
    "print(B)\n"
   ]
  },
  {
   "cell_type": "markdown",
   "id": "414e0444",
   "metadata": {},
   "source": [
    "# 7. Binary operators\n",
    "\n",
    "Binary operators allow us perform mathematical computations. Moreover, we are also able to compare different variables. You can find more information and a table in this [link](https://wesmckinney.com/book/python-basics#semantics_binary_ops).\n",
    "\n"
   ]
  },
  {
   "cell_type": "markdown",
   "id": "dd5bbf2e-5d1d-4cc9-8263-5c07902784a7",
   "metadata": {},
   "source": [
    "## Task 7.1\n",
    "\n",
    "First of all, let's try to compare two integers. \n",
    "\n",
    "Given the variables `a` and `b` defined below, change the code as appropriate and use a comparison that is able to return `True`."
   ]
  },
  {
   "cell_type": "code",
   "execution_count": 163,
   "id": "02812c02",
   "metadata": {},
   "outputs": [
    {
     "data": {
      "text/plain": [
       "True"
      ]
     },
     "execution_count": 163,
     "metadata": {},
     "output_type": "execute_result"
    }
   ],
   "source": [
    "a = 2 + 3\n",
    "b = 10\n",
    "\n",
    "a != b"
   ]
  },
  {
   "cell_type": "markdown",
   "id": "2ba92778",
   "metadata": {},
   "source": [
    "## Task 7.2\n",
    "\n",
    "Compute the speed of a train which has traveled 40,000 meters in 30 minutes. Assess if the speed of the train is above the average speed. We know that the average speed is 40 km/h.\n",
    "\n",
    "_Hint: Remember to compare using the same units_"
   ]
  },
  {
   "cell_type": "code",
   "execution_count": 170,
   "id": "9b7d3d97",
   "metadata": {},
   "outputs": [
    {
     "data": {
      "text/plain": [
       "True"
      ]
     },
     "execution_count": 170,
     "metadata": {},
     "output_type": "execute_result"
    }
   ],
   "source": [
    "\n",
    "#turning the meters into km/h\n",
    "b=40\n",
    "a=40000*2/1000\n",
    "a>b\n"
   ]
  },
  {
   "cell_type": "markdown",
   "id": "b22fd3b7",
   "metadata": {},
   "source": [
    "a is greater than b so the train is traveling above average speed"
   ]
  },
  {
   "cell_type": "markdown",
   "id": "3cbf33cc",
   "metadata": {},
   "source": [
    "## Task 7.3\n",
    "\n",
    "Next, we would like to work with floor division and modulo operators. \n",
    "\n",
    "Write a program that is able to convert minutes (taken as an input from the user) to hours and minutes using the above mentioned operators.\n",
    "\n",
    "For instance, how many hours and minutes are 135 minutes? We should be able to answer: 2 hours and 15 minutes."
   ]
  },
  {
   "cell_type": "code",
   "execution_count": 172,
   "id": "88858d56",
   "metadata": {},
   "outputs": [
    {
     "name": "stdout",
     "output_type": "stream",
     "text": [
      "135 minutes is equal to 2 hours and 15 minutes.\n"
     ]
    }
   ],
   "source": [
    "totalminutes = int(input(\"Enter the number of minutes: \"))\n",
    "\n",
    "hours = totalminutes // 60\n",
    "minutes = totalminutes % 60\n",
    "\n",
    "\n",
    "print(total_minutes, \"minutes is equal to\", hours, \"hours and\",minutes,\"minutes.\")"
   ]
  },
  {
   "cell_type": "markdown",
   "id": "ac5409dc",
   "metadata": {},
   "source": [
    "## Task 7.4\n",
    "\n",
    "Replace the `???` for an operator of your choice which allows the code to count both upper and lower case a's on the variable named `name`"
   ]
  },
  {
   "cell_type": "code",
   "execution_count": 57,
   "id": "8d848532-a7f7-47f7-9c6d-17c22e0a3da2",
   "metadata": {},
   "outputs": [
    {
     "name": "stdout",
     "output_type": "stream",
     "text": [
      "2\n"
     ]
    }
   ],
   "source": [
    "name = 'Alexander'\n",
    "counter = 0\n",
    "\n",
    "for i in name: \n",
    "    if (i == \"A\") or (i ==  \"a\"):\n",
    "        counter += 1\n",
    "        \n",
    "print(counter)"
   ]
  },
  {
   "cell_type": "markdown",
   "id": "fcca8489",
   "metadata": {},
   "source": [
    "## Task 7.5\n",
    "Create 2 variables named `variable1` and `variable2` of your choice. Use the binary operator `!=`, so that the operation returns `False`. Explain what this operator does."
   ]
  },
  {
   "cell_type": "code",
   "execution_count": 173,
   "id": "15c22209",
   "metadata": {},
   "outputs": [
    {
     "data": {
      "text/plain": [
       "False"
      ]
     },
     "execution_count": 173,
     "metadata": {},
     "output_type": "execute_result"
    }
   ],
   "source": [
    "a=10\n",
    "b=10\n",
    "\n",
    "a!=b"
   ]
  },
  {
   "cell_type": "markdown",
   "id": "0864ca6b",
   "metadata": {},
   "source": [
    "this operator only returns True if a is not the same as be so if a and b are equal it will return False"
   ]
  },
  {
   "cell_type": "markdown",
   "id": "30732474",
   "metadata": {},
   "source": [
    "# 8. Wrap-up"
   ]
  },
  {
   "cell_type": "markdown",
   "id": "adf397ae",
   "metadata": {},
   "source": [
    "Your final task is to take everything that you have learned today and develop your first game. There are many games that can easily be implemented in Python without a graphical interface e.g., Rock, Paper, Scissors. It is up to you what game you implement, and you can also come up with an entirely new game.\n",
    "\n",
    "As explained in session 2, the first step should be computational thinking. Hence, please provide pseudocode or a flowchart showing how the game works. Once you are done, implement the game in Python code. Please consider the following points:\n",
    "\n",
    "1.\tThe game must take inputs from the user e.g., you could ask “How many times do you want to throw the dice?”\n",
    "2.\tAppropriately handle exceptions e.g., when evaluating the user’s input.\n",
    "3.\tThe code must contain at least one self-defined function.\n",
    "4.\tDocument your code using comments."
   ]
  },
  {
   "cell_type": "code",
   "execution_count": 72,
   "id": "7e034d5a",
   "metadata": {},
   "outputs": [
    {
     "name": "stdout",
     "output_type": "stream",
     "text": [
      "welp guess i'll drink on my own\n"
     ]
    }
   ],
   "source": [
    "#this is an old trick game i learned back in school by using the algorithm of the game there is for the normal person typically no way of winning\n",
    "\n",
    "#defining main game function\n",
    "def spil():\n",
    "    #defining variables \n",
    "    chokolader=13\n",
    "    npc=4\n",
    "    #the start of the game\n",
    "    print(\"der er 13 chokolader og en chilli det gælder om ikke at få chillien til sidst du kan tage mellem 1 og 3 ad gangen\")\n",
    "    print(\"jeg starter med at tage en chokolade \")\n",
    "    chokolader-=1\n",
    "    print(\"nu er det din tur\")\n",
    "    #opponent algorithm makes sure to always grab the 4th piece of candy\n",
    "    for i in range(0,3):\n",
    "        t=input(\"hvor mange tager du?\")\n",
    "        npc-=int(t)\n",
    "        chokolader -= int(t)\n",
    "        print(chokolader)\n",
    "        chokolader -= npc\n",
    "        npc=4\n",
    "    if chokolader == 0:\n",
    "     #loss stat\n",
    "     print (\"Du tabte desvære da der ikke er flere chokolader tilbage\")\n",
    "    menu()\n",
    "\n",
    "#defining ui prior to game start\n",
    "def menu():\n",
    "    #using player input to decide whether to start the game\n",
    "    svar=input(\"vil du spille yes eller no?\\n\")\n",
    "    if svar==\"yes\":\n",
    "        spil()\n",
    "    else:\n",
    "        print(\"welp guess i'll drink on my own\")\n",
    "menu()"
   ]
  },
  {
   "cell_type": "markdown",
   "id": "34a766ba",
   "metadata": {},
   "source": [
    "Pseudocode:\n",
    "\n",
    "player STARTS the program \n",
    "Player is prompted to INPUT whether or not they want to play the game\n",
    "Game counter DECREASES by one to start\n",
    "Player INPUTS the amount of candy they will take from 1 to 3\n",
    "The algorithm COUNTERS staying on the 4th piece of candy at all times\n",
    "REPEAT\n",
    "Player LOSES to the computer\n",
    "Game SHUTS DOWN."
   ]
  }
 ],
 "metadata": {
  "kernelspec": {
   "display_name": "Python 3 (ipykernel)",
   "language": "python",
   "name": "python3"
  },
  "language_info": {
   "codemirror_mode": {
    "name": "ipython",
    "version": 3
   },
   "file_extension": ".py",
   "mimetype": "text/x-python",
   "name": "python",
   "nbconvert_exporter": "python",
   "pygments_lexer": "ipython3",
   "version": "3.12.6"
  }
 },
 "nbformat": 4,
 "nbformat_minor": 5
}
