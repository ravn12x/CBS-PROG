{
 "cells": [
  {
   "cell_type": "markdown",
   "id": "9fc577fe",
   "metadata": {},
   "source": [
    "## Digital Technologies and Data-Driven Business\n",
    "# Exercises for Session 9"
   ]
  },
  {
   "cell_type": "markdown",
   "id": "4b4ce73f",
   "metadata": {},
   "source": [
    "### Welcome to Airbnb Copenhagen"
   ]
  },
  {
   "cell_type": "markdown",
   "id": "9d14e11c",
   "metadata": {},
   "source": [
    "<img src=\"https://upload.wikimedia.org/wikipedia/commons/6/69/Airbnb_Logo_Bélo.svg\" alt=\"Airbnbn Logo\" style=\"width: 200px;\"/>"
   ]
  },
  {
   "cell_type": "markdown",
   "id": "524f448c",
   "metadata": {},
   "source": [
    "Congratulations, you are only a couple of weeks into the Bachelor program in Digital Management and you already landed your dream internship as a business analyst in Airbnb’s Copenhagen office. Over the coming weeks, colleagues from other departments across the organization will provide you with datasets and ask you to generate insights based on this data. \n",
    "\n",
    "On your first day, your new colleague Annabelle, who works in the customer insights department, sends you a dataset. Annabelle would like to learn more about Airbnb's hosts (i.e., those users who offer accommodation on the platform) who are active in Copenhagen. Please see the text of her email below."
   ]
  },
  {
   "cell_type": "markdown",
   "id": "ba43a7bf",
   "metadata": {},
   "source": [
    "_Welcome to Airbnb Copenhagen. We are excited to have you on board! My name is Annabelle and I joined the customer insights department two years ago. I am really sorry to have to bug you on your first day, but everybody else in business analytics is booked at the moment. I thus wondered whether you might be able to help me to generate a couple of insights from the enclosed dataset. This is super important for a presentation I must give early next week. Could you help me with that? Please see the list of tasks below._\n",
    "\n",
    "_You are the best!_\n",
    "\n",
    "_Annabelle_"
   ]
  },
  {
   "cell_type": "markdown",
   "id": "794e88b5",
   "metadata": {},
   "source": [
    "## Task 1\n",
    "\n",
    "Import the necessary modules to read in a pandas DataFrame and read the file named \"airbnb_hosts_insights.csv\". \n",
    "\n",
    "_Hint_: Have a look at the Pandas function `read_csv`."
   ]
  },
  {
   "cell_type": "code",
   "execution_count": 2,
   "id": "b0fbbb03",
   "metadata": {},
   "outputs": [
    {
     "name": "stdout",
     "output_type": "stream",
     "text": [
      "   Unnamed: 0                                      listing_url  \\\n",
      "0           0            https://www.airbnb.com/rooms/50129088   \n",
      "1           1  https://www.airbnb.com/rooms/585288456970651497   \n",
      "2           3            https://www.airbnb.com/rooms/38610056   \n",
      "3           4            https://www.airbnb.com/rooms/32483807   \n",
      "4           6             https://www.airbnb.com/rooms/2344575   \n",
      "5           8             https://www.airbnb.com/rooms/3295113   \n",
      "6           9             https://www.airbnb.com/rooms/1161709   \n",
      "7          10             https://www.airbnb.com/rooms/9243550   \n",
      "8          12            https://www.airbnb.com/rooms/42127078   \n",
      "9          13            https://www.airbnb.com/rooms/43507898   \n",
      "\n",
      "                                                name  \\\n",
      "0    Luxury apartment,  with perfect location in CPH   \n",
      "1                   2 bedroom apartment on the water   \n",
      "2  72m2 New apartment close to the city and water...   \n",
      "3         Beautiful and modern one-bedroom apartment   \n",
      "4                 Great apartment in Frederiksberg!!   \n",
      "5                   House with garden and 2 terraces   \n",
      "6   Big House in green area very close to Copenhagen   \n",
      "7                 cozy home whit god transport links   \n",
      "8                             Havudsigten i Hellerup   \n",
      "9             Modern apartment with industrial style   \n",
      "\n",
      "                                         description  \\\n",
      "0  Newly renovated luxury’s apartment in the hear...   \n",
      "1  100 sqm new (2021),  fully fitted apartment in...   \n",
      "2  Brand new apartment close to the kanals of Cop...   \n",
      "3  Welcome to our modern, cozy one bedroom apartm...   \n",
      "4  3 room apartment in central Frederiksberg. Cen...   \n",
      "5  Charming house 135 m2 with 2 bedrooms on 1st f...   \n",
      "6  <b>The space</b><br />Situated in a charming a...   \n",
      "7  Nice little house near Copenhagen AirPort and ...   \n",
      "8  Værelse med fri adgang til spisestue køkken/ f...   \n",
      "9  Want to experience Copenhagen? Nordhavn (North...   \n",
      "\n",
      "                                      host_url    host_name  host_since  \\\n",
      "0  https://www.airbnb.com/users/show/243593894         Tina  2019-02-17   \n",
      "1    https://www.airbnb.com/users/show/5575117    Katharina  2013-03-22   \n",
      "2   https://www.airbnb.com/users/show/82892068  Abdel-Fatah  2016-07-10   \n",
      "3  https://www.airbnb.com/users/show/244063112         Lars  2019-02-19   \n",
      "4   https://www.airbnb.com/users/show/11194457         Lars  2014-01-11   \n",
      "5    https://www.airbnb.com/users/show/6166908        Dorte  2013-04-30   \n",
      "6    https://www.airbnb.com/users/show/5377866         Lars  2013-03-08   \n",
      "7   https://www.airbnb.com/users/show/48040703        Linda  2015-11-03   \n",
      "8   https://www.airbnb.com/users/show/82115076      Susanne  2016-07-06   \n",
      "9   https://www.airbnb.com/users/show/35089158      Nikolaj  2015-06-05   \n",
      "\n",
      "                                    host_location  \\\n",
      "0                             Copenhagen, Denmark   \n",
      "1                             Copenhagen, Denmark   \n",
      "2                                Rødovre, Denmark   \n",
      "3                                              DK   \n",
      "4                               Hvidovre, Denmark   \n",
      "5    Hellerup, Capital Region of Denmark, Denmark   \n",
      "6                                Rødovre, Denmark   \n",
      "7  Copenhagen, Capital Region of Denmark, Denmark   \n",
      "8    Hellerup, Capital Region of Denmark, Denmark   \n",
      "9                             Copenhagen, Denmark   \n",
      "\n",
      "                                          host_about  host_response_time  ...  \\\n",
      "0  \\r\\nMy name is Tina, my husband Peter and I ha...      within an hour  ...   \n",
      "1  From Dublin, living in Copenhagen, love travel...      within an hour  ...   \n",
      "2  hello my name is abdel.\\r\\ni am a family man ,...      within an hour  ...   \n",
      "3                                                NaN                 NaN  ...   \n",
      "4  We are a married couple living just outside Co...                 NaN  ...   \n",
      "5                    Roligt par fra Hellerup, 40 år.  within a few hours  ...   \n",
      "6  Hi everybody!\\r\\n\\r\\nMy name is Lars. I am mar...        within a day  ...   \n",
      "7  Jeg er 52 år. Arbejder indenfor social og sund...  within a few hours  ...   \n",
      "8                                                NaN        within a day  ...   \n",
      "9    34 year old engineer and father to three kids.       within an hour  ...   \n",
      "\n",
      "  review_scores_rating review_scores_accuracy review_scores_cleanliness  \\\n",
      "0                  NaN                    NaN                       NaN   \n",
      "1                  NaN                    NaN                       NaN   \n",
      "2                 4.84                   4.81                      4.86   \n",
      "3                 4.70                   4.70                      5.00   \n",
      "4                 5.00                   5.00                      5.00   \n",
      "5                 4.80                   5.00                      4.80   \n",
      "6                 4.84                   4.78                      4.89   \n",
      "7                 4.94                   4.97                      5.00   \n",
      "8                 5.00                   5.00                      5.00   \n",
      "9                 5.00                   5.00                      4.00   \n",
      "\n",
      "   review_scores_checkin review_scores_communication review_scores_location  \\\n",
      "0                    NaN                         NaN                    NaN   \n",
      "1                    NaN                         NaN                    NaN   \n",
      "2                   4.92                        4.89                   4.68   \n",
      "3                   4.80                        4.95                   4.00   \n",
      "4                   5.00                        5.00                   3.00   \n",
      "5                   5.00                        5.00                   4.80   \n",
      "6                   4.94                        5.00                   4.71   \n",
      "7                   5.00                        4.97                   4.66   \n",
      "8                   5.00                        5.00                   5.00   \n",
      "9                   5.00                        5.00                   4.00   \n",
      "\n",
      "  review_scores_value license  instant_bookable  reviews_per_month  \n",
      "0                 NaN     NaN                 f                NaN  \n",
      "1                 NaN     NaN                 t                NaN  \n",
      "2                4.70     NaN                 f               1.32  \n",
      "3                4.50     NaN                 t               0.52  \n",
      "4                5.00     NaN                 f               0.02  \n",
      "5                5.00     NaN                 f               0.06  \n",
      "6                4.76     NaN                 f               0.18  \n",
      "7                4.91     NaN                 f               0.42  \n",
      "8                5.00     NaN                 t               0.04  \n",
      "9                4.00     NaN                 f               0.71  \n",
      "\n",
      "[10 rows x 45 columns]\n"
     ]
    }
   ],
   "source": [
    "import pandas as pd\n",
    "import numpy as np\n",
    "df= pd.read_csv('airbnb_hosts_insights.csv')\n",
    "print(df.head(10)) "
   ]
  },
  {
   "cell_type": "markdown",
   "id": "173120f2",
   "metadata": {},
   "source": [
    "## Task 2\n",
    "__Annabelle__: _Marc sent me this dataset. He told me it has 5,000 rows. Is that correct?_ Are there any missing values or duplicates?"
   ]
  },
  {
   "cell_type": "code",
   "execution_count": 3,
   "id": "a69f2279",
   "metadata": {},
   "outputs": [
    {
     "name": "stdout",
     "output_type": "stream",
     "text": [
      "<class 'pandas.core.frame.DataFrame'>\n",
      "RangeIndex: 8272 entries, 0 to 8271\n",
      "Data columns (total 45 columns):\n",
      " #   Column                       Non-Null Count  Dtype  \n",
      "---  ------                       --------------  -----  \n",
      " 0   Unnamed: 0                   8272 non-null   int64  \n",
      " 1   listing_url                  8272 non-null   object \n",
      " 2   name                         8272 non-null   object \n",
      " 3   description                  8029 non-null   object \n",
      " 4   host_url                     8272 non-null   object \n",
      " 5   host_name                    8272 non-null   object \n",
      " 6   host_since                   8272 non-null   object \n",
      " 7   host_location                8265 non-null   object \n",
      " 8   host_about                   4840 non-null   object \n",
      " 9   host_response_time           6134 non-null   object \n",
      " 10  host_response_rate           6134 non-null   object \n",
      " 11  host_acceptance_rate         7163 non-null   object \n",
      " 12  host_is_superhost            8272 non-null   object \n",
      " 13  host_total_listings_count    8272 non-null   int64  \n",
      " 14  host_verifications           8272 non-null   object \n",
      " 15  host_has_profile_pic         8272 non-null   object \n",
      " 16  host_identity_verified       8272 non-null   object \n",
      " 17  neighbourhood_cleansed       8272 non-null   object \n",
      " 18  latitude                     8272 non-null   float64\n",
      " 19  longitude                    8272 non-null   float64\n",
      " 20  property_type                8272 non-null   object \n",
      " 21  room_type                    8272 non-null   object \n",
      " 22  accommodates                 8272 non-null   int64  \n",
      " 23  bathrooms_text               8263 non-null   object \n",
      " 24  bedrooms                     8102 non-null   float64\n",
      " 25  beds                         8187 non-null   float64\n",
      " 26  amenities                    8272 non-null   object \n",
      " 27  price                        8272 non-null   int64  \n",
      " 28  minimum_nights               8272 non-null   int64  \n",
      " 29  maximum_nights               8272 non-null   int64  \n",
      " 30  number_of_reviews            8272 non-null   int64  \n",
      " 31  number_of_reviews_ltm        8272 non-null   int64  \n",
      " 32  number_of_reviews_l30d       8272 non-null   int64  \n",
      " 33  first_review                 7322 non-null   object \n",
      " 34  last_review                  7322 non-null   object \n",
      " 35  review_scores_rating         7322 non-null   float64\n",
      " 36  review_scores_accuracy       7277 non-null   float64\n",
      " 37  review_scores_cleanliness    7277 non-null   float64\n",
      " 38  review_scores_checkin        7277 non-null   float64\n",
      " 39  review_scores_communication  7277 non-null   float64\n",
      " 40  review_scores_location       7277 non-null   float64\n",
      " 41  review_scores_value          7277 non-null   float64\n",
      " 42  license                      0 non-null      float64\n",
      " 43  instant_bookable             8272 non-null   object \n",
      " 44  reviews_per_month            7322 non-null   float64\n",
      "dtypes: float64(13), int64(9), object(23)\n",
      "memory usage: 2.8+ MB\n",
      "None\n"
     ]
    }
   ],
   "source": [
    "print(df.info())"
   ]
  },
  {
   "cell_type": "code",
   "execution_count": 20,
   "id": "078534d9",
   "metadata": {},
   "outputs": [
    {
     "name": "stdout",
     "output_type": "stream",
     "text": [
      "True\n",
      "Unnamed: 0                        0\n",
      "listing_url                       0\n",
      "name                              0\n",
      "description                     243\n",
      "host_url                          0\n",
      "host_name                         0\n",
      "host_since                        0\n",
      "host_location                     7\n",
      "host_about                     3432\n",
      "host_response_time             2138\n",
      "host_response_rate             2138\n",
      "host_acceptance_rate           1109\n",
      "host_is_superhost                 0\n",
      "host_total_listings_count         0\n",
      "host_verifications                0\n",
      "host_has_profile_pic              0\n",
      "host_identity_verified            0\n",
      "neighbourhood_cleansed            0\n",
      "latitude                          0\n",
      "longitude                         0\n",
      "property_type                     0\n",
      "room_type                         0\n",
      "accommodates                      0\n",
      "bathrooms_text                    9\n",
      "bedrooms                        170\n",
      "beds                             85\n",
      "amenities                         0\n",
      "price                             0\n",
      "minimum_nights                    0\n",
      "maximum_nights                    0\n",
      "number_of_reviews                 0\n",
      "number_of_reviews_ltm             0\n",
      "number_of_reviews_l30d            0\n",
      "first_review                    950\n",
      "last_review                     950\n",
      "review_scores_rating            950\n",
      "review_scores_accuracy          995\n",
      "review_scores_cleanliness       995\n",
      "review_scores_checkin           995\n",
      "review_scores_communication     995\n",
      "review_scores_location          995\n",
      "review_scores_value             995\n",
      "license                        8272\n",
      "instant_bookable                  0\n",
      "reviews_per_month               950\n",
      "stars_number                      0\n",
      "dtype: int64\n"
     ]
    }
   ],
   "source": [
    "# Code here\n",
    "print(df.isnull().values.any()) \n",
    "print(df.isna().sum())"
   ]
  },
  {
   "cell_type": "code",
   "execution_count": 5,
   "id": "c8ee06f6",
   "metadata": {},
   "outputs": [
    {
     "name": "stdout",
     "output_type": "stream",
     "text": [
      "0       False\n",
      "1       False\n",
      "2       False\n",
      "3       False\n",
      "4       False\n",
      "        ...  \n",
      "8267    False\n",
      "8268    False\n",
      "8269    False\n",
      "8270    False\n",
      "8271    False\n",
      "Length: 8272, dtype: bool\n"
     ]
    }
   ],
   "source": [
    "\n",
    "df.drop_duplicates(inplace = True)\n",
    "print(df.duplicated())"
   ]
  },
  {
   "cell_type": "markdown",
   "id": "6b284e81",
   "metadata": {},
   "source": [
    "Answer here"
   ]
  },
  {
   "cell_type": "markdown",
   "id": "fb9af574",
   "metadata": {},
   "source": [
    "The data set has 8,272 rows it has missing values and no duplicates"
   ]
  },
  {
   "cell_type": "markdown",
   "id": "dc0f1150",
   "metadata": {},
   "source": [
    "## Task 3\n",
    "__Annabelle__: _Could you please tell me the name of the host at index 0?_"
   ]
  },
  {
   "cell_type": "code",
   "execution_count": 6,
   "id": "833dfc5f",
   "metadata": {
    "scrolled": true
   },
   "outputs": [
    {
     "name": "stdout",
     "output_type": "stream",
     "text": [
      "Tina\n"
     ]
    }
   ],
   "source": [
    "# Code here\n",
    "print(df.host_name[0])\n"
   ]
  },
  {
   "cell_type": "markdown",
   "id": "9eacf694",
   "metadata": {},
   "source": [
    "Answer here"
   ]
  },
  {
   "cell_type": "markdown",
   "id": "2368e845",
   "metadata": {},
   "source": [
    "## Task 4\n",
    "\n",
    "__Annabelle__: _And now the name of the host offering the last listing in the dataset? I just want to make sure the dataset is complete._"
   ]
  },
  {
   "cell_type": "code",
   "execution_count": 7,
   "id": "41bcd44a",
   "metadata": {},
   "outputs": [
    {
     "name": "stdout",
     "output_type": "stream",
     "text": [
      "Anja\n"
     ]
    }
   ],
   "source": [
    "# Code here\n",
    "print(df.host_name[8271]) "
   ]
  },
  {
   "cell_type": "markdown",
   "id": "1912496e",
   "metadata": {},
   "source": []
  },
  {
   "cell_type": "markdown",
   "id": "b2da3bbd",
   "metadata": {},
   "source": [
    "Answer here"
   ]
  },
  {
   "cell_type": "markdown",
   "id": "6bee1612",
   "metadata": {},
   "source": [
    "## Task 5\n",
    "\n",
    "__Annabelle__: _Could you get me a list of all the columns contained in the dataset?_"
   ]
  },
  {
   "cell_type": "code",
   "execution_count": 8,
   "id": "fb1c3285",
   "metadata": {
    "scrolled": true
   },
   "outputs": [
    {
     "name": "stdout",
     "output_type": "stream",
     "text": [
      "['Unnamed: 0', 'listing_url', 'name', 'description', 'host_url', 'host_name', 'host_since', 'host_location', 'host_about', 'host_response_time', 'host_response_rate', 'host_acceptance_rate', 'host_is_superhost', 'host_total_listings_count', 'host_verifications', 'host_has_profile_pic', 'host_identity_verified', 'neighbourhood_cleansed', 'latitude', 'longitude', 'property_type', 'room_type', 'accommodates', 'bathrooms_text', 'bedrooms', 'beds', 'amenities', 'price', 'minimum_nights', 'maximum_nights', 'number_of_reviews', 'number_of_reviews_ltm', 'number_of_reviews_l30d', 'first_review', 'last_review', 'review_scores_rating', 'review_scores_accuracy', 'review_scores_cleanliness', 'review_scores_checkin', 'review_scores_communication', 'review_scores_location', 'review_scores_value', 'license', 'instant_bookable', 'reviews_per_month']\n"
     ]
    }
   ],
   "source": [
    "# Code here\n",
    "print(list(df))"
   ]
  },
  {
   "cell_type": "markdown",
   "id": "7b800902",
   "metadata": {},
   "source": [
    "## Task 6\n",
    "\n",
    "__Annabelle__:  _I want to get a better overview of the data we're dealing with and a summary of some of the columns. What is most common accommodation type? What is the highest, lowest and average price? What is the distribution of Neighbourhoods?_\n",
    "\n",
    "_Hint_: Use Python's description statistics functions from the Pandas package and look at the list of columns. "
   ]
  },
  {
   "cell_type": "code",
   "execution_count": 15,
   "id": "a80935da",
   "metadata": {},
   "outputs": [
    {
     "name": "stdout",
     "output_type": "stream",
     "text": [
      "property_type\n",
      "Entire rental unit    4569\n",
      "Name: count, dtype: int64\n",
      "         Unnamed: 0  host_total_listings_count     latitude    longitude  \\\n",
      "count   8272.000000                8272.000000  8272.000000  8272.000000   \n",
      "mean    4693.385276                  11.513177    55.679635    12.559275   \n",
      "std     2953.059146                  52.555171     0.019851     0.032292   \n",
      "min        0.000000                   1.000000    55.615190    12.447650   \n",
      "25%     2220.500000                   1.000000    55.666128    12.542417   \n",
      "50%     4390.500000                   1.000000    55.680195    12.557349   \n",
      "75%     6954.750000                   2.000000    55.694083    12.581495   \n",
      "max    10951.000000                 346.000000    55.735740    12.639720   \n",
      "\n",
      "       accommodates     bedrooms         beds         price  minimum_nights  \\\n",
      "count   8272.000000  8102.000000  8187.000000   8272.000000     8272.000000   \n",
      "mean       3.520551     1.733769     2.166606   1221.758825        4.796180   \n",
      "std        1.829662     1.479429     1.506106   2293.847902       18.951307   \n",
      "min        1.000000     1.000000     1.000000    103.000000        1.000000   \n",
      "25%        2.000000     1.000000     1.000000    700.000000        2.000000   \n",
      "50%        3.000000     1.000000     2.000000    950.000000        3.000000   \n",
      "75%        4.000000     2.000000     3.000000   1300.000000        4.000000   \n",
      "max       16.000000   101.000000    24.000000  87305.000000     1111.000000   \n",
      "\n",
      "       maximum_nights  ...  number_of_reviews_l30d  review_scores_rating  \\\n",
      "count     8272.000000  ...             8272.000000           7322.000000   \n",
      "mean       562.798598  ...                0.491900              4.759062   \n",
      "std        529.229563  ...                1.233644              0.473595   \n",
      "min          1.000000  ...                0.000000              0.000000   \n",
      "25%         21.000000  ...                0.000000              4.700000   \n",
      "50%        365.000000  ...                0.000000              4.860000   \n",
      "75%       1125.000000  ...                1.000000              5.000000   \n",
      "max       4000.000000  ...               33.000000              5.000000   \n",
      "\n",
      "       review_scores_accuracy  review_scores_cleanliness  \\\n",
      "count             7277.000000                7277.000000   \n",
      "mean                 4.836038                   4.692028   \n",
      "std                  0.278954                   0.382724   \n",
      "min                  1.000000                   1.000000   \n",
      "25%                  4.790000                   4.560000   \n",
      "50%                  4.910000                   4.800000   \n",
      "75%                  5.000000                   4.970000   \n",
      "max                  5.000000                   5.000000   \n",
      "\n",
      "       review_scores_checkin  review_scores_communication  \\\n",
      "count            7277.000000                  7277.000000   \n",
      "mean                4.883565                     4.898667   \n",
      "std                 0.244886                     0.255735   \n",
      "min                 1.000000                     1.000000   \n",
      "25%                 4.860000                     4.890000   \n",
      "50%                 4.950000                     5.000000   \n",
      "75%                 5.000000                     5.000000   \n",
      "max                 5.000000                     5.000000   \n",
      "\n",
      "       review_scores_location  review_scores_value  license  reviews_per_month  \n",
      "count             7277.000000          7277.000000      0.0        7322.000000  \n",
      "mean                 4.819489             4.710488      NaN           0.626147  \n",
      "std                  0.249639             0.314057      NaN           0.868198  \n",
      "min                  1.000000             1.000000      NaN           0.010000  \n",
      "25%                  4.750000             4.610000      NaN           0.170000  \n",
      "50%                  4.880000             4.760000      NaN           0.360000  \n",
      "75%                  5.000000             4.900000      NaN           0.750000  \n",
      "max                  5.000000             5.000000      NaN          20.990000  \n",
      "\n",
      "[8 rows x 22 columns]\n"
     ]
    }
   ],
   "source": [
    "# Code here\n",
    "Propdf=(df.groupby(['property_type'])['property_type'].count())\n",
    "print(df['property_type'].value_counts().nlargest(1))\n",
    "print(df.describe())\n"
   ]
  },
  {
   "cell_type": "markdown",
   "id": "b5ab40f0",
   "metadata": {},
   "source": [
    "## Task 7\n",
    "\n",
    "__Annabelle__: _While you are at it, could you do me a favor? Three of my friends are coming over from Paris this weekend. Could you get me a list of accommodations that are large enough for my three friends and that have two bathrooms? Please get me the top 5 listings by `review_scores_rating`._\n",
    "\n",
    "_Hint_: Select the proper columns in you DataFrame for this filtering step. Name this dataframe 'trip_df' and run the function `sort_values` on this new DataFrame."
   ]
  },
  {
   "cell_type": "code",
   "execution_count": null,
   "id": "6b33b307",
   "metadata": {
    "scrolled": true
   },
   "outputs": [
    {
     "name": "stdout",
     "output_type": "stream",
     "text": [
      "      Unnamed: 0                                      listing_url  \\\n",
      "6267        7069            https://www.airbnb.com/rooms/43534031   \n",
      "6220        6985            https://www.airbnb.com/rooms/42782826   \n",
      "8119       10561  https://www.airbnb.com/rooms/617085803631804022   \n",
      "8007       10312  https://www.airbnb.com/rooms/601207731403466540   \n",
      "7938       10183  https://www.airbnb.com/rooms/594581234205365141   \n",
      "\n",
      "                                                   name  \\\n",
      "6267                            Sommerferie i København   \n",
      "6220  Homey flat with a small south-west-facing terrace   \n",
      "8119    Dejlig lejlighed tæt på centrum af København :)   \n",
      "8007             Charming Spacious Central 3r Apartment   \n",
      "7938  Beautiful waterfront apartment with two balconys.   \n",
      "\n",
      "                                            description  \\\n",
      "6267  Kan I ikke komme på ferie til udlandet i år?<b...   \n",
      "6220  Cozy apartment 55m2 with a small south-west-fa...   \n",
      "8119  Nyd det simple liv i denne fredelige og centra...   \n",
      "8007  Meget lys og stor 3 værelses lejlighed på hipp...   \n",
      "7938  This waterfront apartment has two balconys wit...   \n",
      "\n",
      "                                        host_url host_name  host_since  \\\n",
      "6267  https://www.airbnb.com/users/show/18919245    Vibeke  2014-07-26   \n",
      "6220  https://www.airbnb.com/users/show/14631309  Tatianna  2014-04-23   \n",
      "8119  https://www.airbnb.com/users/show/33584756   Marlene  2015-05-17   \n",
      "8007   https://www.airbnb.com/users/show/7180282    Torben  2013-06-29   \n",
      "7938  https://www.airbnb.com/users/show/72762323      Siri  2016-05-18   \n",
      "\n",
      "                                       host_location  \\\n",
      "6267                              København, Denmark   \n",
      "6220  Copenhagen, Capital Region of Denmark, Denmark   \n",
      "8119                            København S, Denmark   \n",
      "8007                             Copenhagen, Denmark   \n",
      "7938                              København, Denmark   \n",
      "\n",
      "                                             host_about  host_response_time  \\\n",
      "6267  Jeg hedder Vips og min mand hedder Flemming. V...      within an hour   \n",
      "6220       adventurous and just started in my 30th year                 NaN   \n",
      "8119                                                NaN      within an hour   \n",
      "8007                                                NaN        within a day   \n",
      "7938  I’m Siri. I’m working as a journalist in Copen...  within a few hours   \n",
      "\n",
      "      ... review_scores_rating review_scores_accuracy  \\\n",
      "6267  ...                  5.0                    5.0   \n",
      "6220  ...                  5.0                    5.0   \n",
      "8119  ...                  5.0                    5.0   \n",
      "8007  ...                  5.0                    5.0   \n",
      "7938  ...                  5.0                    5.0   \n",
      "\n",
      "     review_scores_cleanliness  review_scores_checkin  \\\n",
      "6267                      4.78                    5.0   \n",
      "6220                      5.00                    5.0   \n",
      "8119                      5.00                    5.0   \n",
      "8007                      5.00                    5.0   \n",
      "7938                      4.00                    5.0   \n",
      "\n",
      "     review_scores_communication review_scores_location review_scores_value  \\\n",
      "6267                         5.0                    5.0                4.89   \n",
      "6220                         5.0                    5.0                5.00   \n",
      "8119                         5.0                    5.0                5.00   \n",
      "8007                         4.0                    5.0                5.00   \n",
      "7938                         5.0                    5.0                5.00   \n",
      "\n",
      "     license  instant_bookable  reviews_per_month  \n",
      "6267     NaN                 f               0.37  \n",
      "6220     NaN                 f               0.13  \n",
      "8119     NaN                 f               1.00  \n",
      "8007     NaN                 t               1.00  \n",
      "7938     NaN                 f               0.73  \n",
      "\n",
      "[5 rows x 45 columns]\n"
     ]
    }
   ],
   "source": [
    "# Code here\n",
    "\n",
    "\n",
    "# Filter the DataFrame for listings in Paris, that accommodate 3 people and have 2 bathrooms\n",
    "\n",
    "\n",
    "filtered_df = df[(df['host_location'] == ('Paris','paris')) | (df['accommodates'] == 3) | (df['bathrooms_text'] == 2)]\n",
    "\n",
    "# Create a new DataFrame with the filtered results\n",
    "trip_df = filtered_df.copy()\n",
    "\n",
    "trip_df = trip_df.sort_values('review_scores_rating')\n",
    "\n",
    "print(trip_df.nlargest(5, 'review_scores_rating'))"
   ]
  },
  {
   "cell_type": "markdown",
   "id": "d65e995b",
   "metadata": {},
   "source": [
    "## Task 8\n",
    "\n",
    "__Annabelle__: _Thank you for the list. I'll send that to my friends. Back to the original dataset. Sorry, that I got a little bit sidetracked._\n",
    "\n",
    "_We have this column called `host_response_time`. Unfortunately, the datatype is a string. Please add a new column to our original DataFrame. Name this column `stars_number`. If the host response time is within an hour, assign 5 stars to that column, if it is within a few hours, 4 stars, if it is within a day, 3 stars, if if is within a few days or more, 2 stars and if there is no information, 1 star._"
   ]
  },
  {
   "cell_type": "code",
   "execution_count": 17,
   "id": "cfa88aad",
   "metadata": {},
   "outputs": [
    {
     "name": "stdout",
     "output_type": "stream",
     "text": [
      "  host_response_time  stars_number\n",
      "0     within an hour             5\n",
      "1     within an hour             5\n",
      "2     within an hour             5\n",
      "3                NaN             1\n",
      "4                NaN             1\n"
     ]
    }
   ],
   "source": [
    "# Code here\n",
    "def response_time_to_stars(response_time):\n",
    "    if response_time == 'within an hour':\n",
    "        return 5\n",
    "    elif response_time == 'within a few hours':\n",
    "        return 4\n",
    "    elif response_time == 'within a day':\n",
    "        return 3\n",
    "    elif response_time == 'within a few days' or response_time == 'a week or more':\n",
    "        return 2\n",
    "    else:\n",
    "        return 1\n",
    "\n",
    "# Apply the function to create the 'stars_number' column\n",
    "df['stars_number'] = df['host_response_time'].apply(response_time_to_stars)\n",
    "\n",
    "# Display the updated DataFrame with the new 'stars_number' column (optional)\n",
    "print(df[['host_response_time', 'stars_number']].head())"
   ]
  },
  {
   "cell_type": "markdown",
   "id": "9c0a142d",
   "metadata": {},
   "source": [
    "## Task 9 \n",
    "\n",
    "__Annabelle__: _Could you please get me a new list of accommodations where the host has a value of at least 3 for the column `stars_number`_"
   ]
  },
  {
   "cell_type": "code",
   "execution_count": null,
   "id": "bb62b47e",
   "metadata": {},
   "outputs": [
    {
     "name": "stdout",
     "output_type": "stream",
     "text": [
      "      Unnamed: 0                                      listing_url  \\\n",
      "1              1  https://www.airbnb.com/rooms/585288456970651497   \n",
      "2              3            https://www.airbnb.com/rooms/38610056   \n",
      "7             10             https://www.airbnb.com/rooms/9243550   \n",
      "13            18            https://www.airbnb.com/rooms/50779968   \n",
      "14            20            https://www.airbnb.com/rooms/23440791   \n",
      "...          ...                                              ...   \n",
      "8208       10795  https://www.airbnb.com/rooms/627912202978586441   \n",
      "8209       10798  https://www.airbnb.com/rooms/628059727822518967   \n",
      "8220       10831  https://www.airbnb.com/rooms/630001057079325814   \n",
      "8256       10931            https://www.airbnb.com/rooms/17615655   \n",
      "8269       10949            https://www.airbnb.com/rooms/40124846   \n",
      "\n",
      "                                                   name  \\\n",
      "1                      2 bedroom apartment on the water   \n",
      "2     72m2 New apartment close to the city and water...   \n",
      "7                    cozy home whit god transport links   \n",
      "13                  Perfect for enjoying city and Ocean   \n",
      "14                           Cosy room near everything.   \n",
      "...                                                 ...   \n",
      "8208                   Skøn lejlighed midt på Vesterbro   \n",
      "8209    Unique penthouse apartment in heart of Nørrebro   \n",
      "8220        Beautiful city apartment with sunny balcony   \n",
      "8256           Waterfront Location 3 people - With Pool   \n",
      "8269  Havudsigt Udsøgt lejlighed ud til Københavns k...   \n",
      "\n",
      "                                            description  \\\n",
      "1     100 sqm new (2021),  fully fitted apartment in...   \n",
      "2     Brand new apartment close to the kanals of Cop...   \n",
      "7     Nice little house near Copenhagen AirPort and ...   \n",
      "13    Nice new residential area by the water. Restau...   \n",
      "14    The townhouse is located in Hvidore, 500m from...   \n",
      "...                                                 ...   \n",
      "8208  Denne ny istandsatte og totalt renoverede lejl...   \n",
      "8209  From this unique 100 square meter apartment yo...   \n",
      "8220  Stay in the middle of wonderful Copenhagen clo...   \n",
      "8256  Luxury 92m2 brand new apartment right on the w...   \n",
      "8269                                                NaN   \n",
      "\n",
      "                                         host_url    host_name  host_since  \\\n",
      "1       https://www.airbnb.com/users/show/5575117    Katharina  2013-03-22   \n",
      "2      https://www.airbnb.com/users/show/82892068  Abdel-Fatah  2016-07-10   \n",
      "7      https://www.airbnb.com/users/show/48040703        Linda  2015-11-03   \n",
      "13     https://www.airbnb.com/users/show/16751780       Monica  2014-06-13   \n",
      "14    https://www.airbnb.com/users/show/128717708       Noreen  2017-05-03   \n",
      "...                                           ...          ...         ...   \n",
      "8208    https://www.airbnb.com/users/show/7438528          Oda  2019-02-19   \n",
      "8209  https://www.airbnb.com/users/show/306966307        Janus  2019-11-04   \n",
      "8220  https://www.airbnb.com/users/show/272811476        Laura  2019-07-01   \n",
      "8256    https://www.airbnb.com/users/show/7023232      Kenneth  2013-06-20   \n",
      "8269   https://www.airbnb.com/users/show/24712428        Julie  2014-12-10   \n",
      "\n",
      "                                       host_location  \\\n",
      "1                                Copenhagen, Denmark   \n",
      "2                                   Rødovre, Denmark   \n",
      "7     Copenhagen, Capital Region of Denmark, Denmark   \n",
      "13                               Copenhagen, Denmark   \n",
      "14                               Copenhagen, Denmark   \n",
      "...                                              ...   \n",
      "8208                                         Denmark   \n",
      "8209                              København, Denmark   \n",
      "8220                                              DK   \n",
      "8256  Copenhagen, Capital Region of Denmark, Denmark   \n",
      "8269                             Copenhagen, Denmark   \n",
      "\n",
      "                                             host_about  host_response_time  \\\n",
      "1     From Dublin, living in Copenhagen, love travel...      within an hour   \n",
      "2     hello my name is abdel.\\ni am a family man , w...      within an hour   \n",
      "7     Jeg er 52 år. Arbejder indenfor social og sund...  within a few hours   \n",
      "13                                                  NaN        within a day   \n",
      "14                       I am a quite and calm person.         within a day   \n",
      "...                                                 ...                 ...   \n",
      "8208                                                 Hi        within a day   \n",
      "8209                                                NaN  within a few hours   \n",
      "8220                                                NaN        within a day   \n",
      "8256       You can check my Linkedin profile - ktlaerke        within a day   \n",
      "8269                                                NaN  within a few hours   \n",
      "\n",
      "      ... review_scores_accuracy review_scores_cleanliness  \\\n",
      "1     ...                    NaN                       NaN   \n",
      "2     ...                   4.81                      4.86   \n",
      "7     ...                   4.97                      5.00   \n",
      "13    ...                   5.00                      5.00   \n",
      "14    ...                   4.84                      4.79   \n",
      "...   ...                    ...                       ...   \n",
      "8208  ...                    NaN                       NaN   \n",
      "8209  ...                    NaN                       NaN   \n",
      "8220  ...                    NaN                       NaN   \n",
      "8256  ...                   4.21                      4.00   \n",
      "8269  ...                   5.00                      4.00   \n",
      "\n",
      "     review_scores_checkin  review_scores_communication  \\\n",
      "1                      NaN                          NaN   \n",
      "2                     4.92                         4.89   \n",
      "7                     5.00                         4.97   \n",
      "13                    5.00                         5.00   \n",
      "14                    4.95                         4.68   \n",
      "...                    ...                          ...   \n",
      "8208                   NaN                          NaN   \n",
      "8209                   NaN                          NaN   \n",
      "8220                   NaN                          NaN   \n",
      "8256                  4.43                         4.57   \n",
      "8269                  5.00                         5.00   \n",
      "\n",
      "     review_scores_location review_scores_value license instant_bookable  \\\n",
      "1                       NaN                 NaN     NaN                t   \n",
      "2                      4.68                4.70     NaN                f   \n",
      "7                      4.66                4.91     NaN                f   \n",
      "13                     5.00                3.00     NaN                f   \n",
      "14                     4.63                4.53     NaN                f   \n",
      "...                     ...                 ...     ...              ...   \n",
      "8208                    NaN                 NaN     NaN                f   \n",
      "8209                    NaN                 NaN     NaN                f   \n",
      "8220                    NaN                 NaN     NaN                f   \n",
      "8256                   4.50                4.00     NaN                f   \n",
      "8269                   5.00                5.00     NaN                f   \n",
      "\n",
      "      reviews_per_month  stars_number  \n",
      "1                   NaN             5  \n",
      "2                  1.32             5  \n",
      "7                  0.42             4  \n",
      "13                 0.11             3  \n",
      "14                 0.39             3  \n",
      "...                 ...           ...  \n",
      "8208                NaN             3  \n",
      "8209                NaN             4  \n",
      "8220                NaN             3  \n",
      "8256               0.26             3  \n",
      "8269               0.03             4  \n",
      "\n",
      "[675 rows x 46 columns]\n"
     ]
    }
   ],
   "source": [
    "# Code here\n",
    "\n",
    "filtered_df = df[(df['host_location'] == ('Paris','paris')) | (df['accommodates'] == 3) | (df['bathrooms_text'] == 2)]\n",
    "\n",
    "# Create a new DataFrame with the filtered results\n",
    "trip_df = filtered_df.copy()\n",
    "\n",
    "\n",
    "rslt_df = trip_df[trip_df['stars_number'] >= 3 ] \n",
    "\n",
    "print(rslt_df)"
   ]
  },
  {
   "cell_type": "markdown",
   "id": "e7c23d4a",
   "metadata": {},
   "source": [
    "## Task 10\n",
    "\n",
    "__Annabelle__: _In this new list, how many accommodations do the hosts have listed on Airbnb on average?_"
   ]
  },
  {
   "cell_type": "code",
   "execution_count": null,
   "id": "141d73fb",
   "metadata": {},
   "outputs": [
    {
     "name": "stdout",
     "output_type": "stream",
     "text": [
      "11.211851851851852\n"
     ]
    }
   ],
   "source": [
    "# Code here\n",
    "\n",
    "\n",
    "\n",
    "df2 = rslt_df['host_total_listings_count'].mean()\n",
    "\n",
    "print(df2)"
   ]
  },
  {
   "cell_type": "markdown",
   "id": "683e6309",
   "metadata": {},
   "source": [
    "Answer here"
   ]
  },
  {
   "cell_type": "markdown",
   "id": "70645776",
   "metadata": {},
   "source": [
    "## Task 11\n",
    "\n",
    "__Annabelle__: _Could you please plot a histogram of the column `price` for the list containing only the accommodations with a `stars_number >= 3`?_"
   ]
  },
  {
   "cell_type": "code",
   "execution_count": null,
   "id": "f96c219e",
   "metadata": {},
   "outputs": [
    {
     "name": "stdout",
     "output_type": "stream",
     "text": [
      "[[<Axes: title={'center': 'Unnamed: 0'}>\n",
      "  <Axes: title={'center': 'host_total_listings_count'}>\n",
      "  <Axes: title={'center': 'latitude'}>\n",
      "  <Axes: title={'center': 'longitude'}>\n",
      "  <Axes: title={'center': 'accommodates'}>]\n",
      " [<Axes: title={'center': 'bedrooms'}> <Axes: title={'center': 'beds'}>\n",
      "  <Axes: title={'center': 'price'}>\n",
      "  <Axes: title={'center': 'minimum_nights'}>\n",
      "  <Axes: title={'center': 'maximum_nights'}>]\n",
      " [<Axes: title={'center': 'number_of_reviews'}>\n",
      "  <Axes: title={'center': 'number_of_reviews_ltm'}>\n",
      "  <Axes: title={'center': 'number_of_reviews_l30d'}>\n",
      "  <Axes: title={'center': 'review_scores_rating'}>\n",
      "  <Axes: title={'center': 'review_scores_accuracy'}>]\n",
      " [<Axes: title={'center': 'review_scores_cleanliness'}>\n",
      "  <Axes: title={'center': 'review_scores_checkin'}>\n",
      "  <Axes: title={'center': 'review_scores_communication'}>\n",
      "  <Axes: title={'center': 'review_scores_location'}>\n",
      "  <Axes: title={'center': 'review_scores_value'}>]\n",
      " [<Axes: title={'center': 'license'}>\n",
      "  <Axes: title={'center': 'reviews_per_month'}>\n",
      "  <Axes: title={'center': 'stars_number'}> <Axes: > <Axes: >]]\n"
     ]
    },
    {
     "data": {
      "image/png": "[encoded data removed]",
      "text/plain": [
       "<Figure size 640x480 with 25 Axes>"
      ]
     },
     "metadata": {},
     "output_type": "display_data"
    }
   ],
   "source": [
    "# Code here\n",
    "#[rslt_df['price'] & rslt_df['stars_number'] >= 3 ].hist()\n",
    "hists=rslt_df.hist(bins=8)\n",
    "\n",
    "print(hists)"
   ]
  },
  {
   "cell_type": "code",
   "execution_count": null,
   "id": "52772c30",
   "metadata": {},
   "outputs": [
    {
     "name": "stdout",
     "output_type": "stream",
     "text": [
      "[[<Axes: title={'center': 'price'}>]]\n"
     ]
    },
    {
     "data": {
      "image/png": "[encoded data removed]",
      "text/plain": [
       "<Figure size 640x480 with 1 Axes>"
      ]
     },
     "metadata": {},
     "output_type": "display_data"
    }
   ],
   "source": [
    "#[rslt_df['price'] & rslt_df['stars_number'] >= 3 ].hist()\n",
    "hists=rslt_df.hist(column='price')\n",
    "\n",
    "print(hists)"
   ]
  },
  {
   "cell_type": "markdown",
   "id": "7e00802a",
   "metadata": {},
   "source": [
    "## Task 12\n",
    "\n",
    "__Annabelle__: _Um, that doesn't really tell us much, does it? How can we improve that?_"
   ]
  },
  {
   "cell_type": "code",
   "execution_count": null,
   "id": "c746f507",
   "metadata": {},
   "outputs": [
    {
     "data": {
      "text/plain": [
       "<Axes: xlabel='price', ylabel='Count'>"
      ]
     },
     "execution_count": 103,
     "metadata": {},
     "output_type": "execute_result"
    },
    {
     "data": {
      "image/png": "[encoded data removed]",
      "text/plain": [
       "<Figure size 640x480 with 1 Axes>"
      ]
     },
     "metadata": {},
     "output_type": "display_data"
    }
   ],
   "source": [
    "# Code here\n",
    "import matplotlib.pyplot as plt\n",
    "import seaborn as sns\n",
    "\n",
    "sns.histplot(data=rslt_df, x='price', kde=True)\n",
    "\n"
   ]
  }
 ],
 "metadata": {
  "kernelspec": {
   "display_name": "Python 3 (ipykernel)",
   "language": "python",
   "name": "python3"
  },
  "language_info": {
   "codemirror_mode": {
    "name": "ipython",
    "version": 3
   },
   "file_extension": ".py",
   "mimetype": "text/x-python",
   "name": "python",
   "nbconvert_exporter": "python",
   "pygments_lexer": "ipython3",
   "version": "3.11.5"
  }
 },
 "nbformat": 4,
 "nbformat_minor": 5
}
