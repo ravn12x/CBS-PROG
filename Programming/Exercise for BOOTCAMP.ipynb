{
 "cells": [
  {
   "cell_type": "markdown",
   "metadata": {},
   "source": [
    "In this document i will do all the exercises for bootcamp as i am feelin under the weather i hope this will suffice. (i might be in friday)\n",
    "\n",
    "the first task was to simplify the if statement using boolean operators\n",
    "\n",
    "if is_rainy == True and has_umbrella == False:\n",
    "    print(True)\n",
    "else:\n",
    "    print(False)\n",
    "\n",
    "This if statements conditions are checked against a true or false value and even though this works perfectly fine it can be shortened by removing the need to explicitly check against a true or false, in our situation this can be fixed by adding a \"and not\" condition to the if statement"
   ]
  },
  {
   "cell_type": "code",
   "execution_count": 1,
   "metadata": {},
   "outputs": [
    {
     "name": "stdout",
     "output_type": "stream",
     "text": [
      "lasse is feeling bad today\n"
     ]
    }
   ],
   "source": [
    "Name= input(\"What is your name?\")\n",
    "Mood=input(\"How are you feeling today?\")\n",
    "print(Name,\"is feeling\",Mood,\"today\")"
   ]
  },
  {
   "cell_type": "code",
   "execution_count": 2,
   "metadata": {},
   "outputs": [
    {
     "name": "stdout",
     "output_type": "stream",
     "text": [
      "True\n"
     ]
    }
   ],
   "source": [
    "is_rainy = True\n",
    "has_umbrella = False\n",
    "if is_rainy and not has_umbrella:\n",
    "    print(True)\n",
    "else:\n",
    "    print(False)\n"
   ]
  },
  {
   "cell_type": "markdown",
   "metadata": {},
   "source": []
  }
 ],
 "metadata": {
  "kernelspec": {
   "display_name": "Python 3",
   "language": "python",
   "name": "python3"
  },
  "language_info": {
   "codemirror_mode": {
    "name": "ipython",
    "version": 3
   },
   "file_extension": ".py",
   "mimetype": "text/x-python",
   "name": "python",
   "nbconvert_exporter": "python",
   "pygments_lexer": "ipython3",
   "version": "3.12.6"
  }
 },
 "nbformat": 4,
 "nbformat_minor": 2
}
