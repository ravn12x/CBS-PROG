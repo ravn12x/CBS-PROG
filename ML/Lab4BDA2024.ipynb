{
  "cells": [
    {
      "cell_type": "code",
      "execution_count": 1,
      "metadata": {
        "id": "LKiz1X9N1EkI"
      },
      "outputs": [],
      "source": [
        "import pandas as pd\n",
        "import matplotlib.pyplot as plt\n",
        "from sklearn.model_selection import train_test_split\n",
        "from sklearn.ensemble import RandomForestClassifier\n",
        "from sklearn.ensemble import RandomForestRegressor\n",
        "from sklearn.neural_network import MLPClassifier\n",
        "from sklearn.linear_model import LinearRegression"
      ]
    },
    {
      "cell_type": "markdown",
      "metadata": {
        "id": "EGeazmSB1EkL"
      },
      "source": [
        "### Question 0\n",
        "Load the telco data file we used in Lab 3, and perform a train-test split. Now build a Random Forest model, and print the score on train and test."
      ]
    },
    {
      "cell_type": "code",
      "execution_count": null,
      "metadata": {
        "colab": {
          "base_uri": "https://localhost:8080/"
        },
        "id": "CJI03ZtT1Q2S",
        "outputId": "59f9de36-da90-46eb-f06e-a300d2b7ab2d"
      },
      "outputs": [
        {
          "name": "stdout",
          "output_type": "stream",
          "text": [
            "Mounted at /content/drive\n",
            "['session4', 'session1', 'session2', 'session3', 'session8']\n"
          ]
        }
      ],
      "source": [
        "## IF USING COLAB/GOOGLE DRIVE\n",
        "\n",
        "from google.colab import drive\n",
        "\n",
        "# Mount Google Drive\n",
        "drive.mount('/content/drive')\n",
        "\n",
        "import os\n",
        "\n",
        "# List the contents of the mounted Google Drive directory\n",
        "drive_path = '/content/drive/MyDrive/BDA 2024' # put your path here\n",
        "drive_contents = os.listdir(drive_path)\n",
        "\n",
        "# Display the list of contents\n",
        "print(drive_contents)\n"
      ]
    },
    {
      "cell_type": "markdown",
      "metadata": {
        "id": "tTY4rDIB4b-S"
      },
      "source": [
        "Below, we first read the telco file into a dataframe. Then we create the target, y, from the Churn column, and the features, X, are all the columns except for Churn."
      ]
    },
    {
      "cell_type": "code",
      "execution_count": null,
      "metadata": {
        "id": "gAICvrH31EkM"
      },
      "outputs": [],
      "source": []
    },
    {
      "cell_type": "markdown",
      "metadata": {
        "id": "t0MUqfgh4o3T"
      },
      "source": []
    },
    {
      "cell_type": "markdown",
      "metadata": {
        "id": "FV-mm5_E1EkN"
      },
      "source": [
        "<h2>Question 1</h2>\n",
        "Build random forest models with the number of estimators ranging from 20 to 500. Write a loop where n_estimators increases 20 at each iteration, and save the train and test scores. <i>Hint: before the loop, create an empty list, **results**. With each iteration, you can use the append method to add the current scores, consisting of a tuple with the test score, train score, and the current value of **n**.</i>"
      ]
    },
    {
      "cell_type": "code",
      "execution_count": null,
      "metadata": {
        "id": "oYWGLMek1EkN"
      },
      "outputs": [],
      "source": [
        "\n"
      ]
    },
    {
      "cell_type": "markdown",
      "metadata": {
        "id": "guHZCnxm4p1s"
      },
      "source": [
        "<h2> Question 1a</h2>\n",
        "\n",
        "What is the effect of number of estimators on test accuracy? What about the effect on train accuracy?\n"
      ]
    },
    {
      "cell_type": "markdown",
      "metadata": {
        "id": "eyFJdd6C4rpF"
      },
      "source": []
    },
    {
      "cell_type": "markdown",
      "metadata": {
        "id": "kKvz_oVT1EkO"
      },
      "source": [
        "<h2> Question 2</h2>\n",
        "\n",
        "Create a line plot of train and test scores for each value of the number of estimators, by completing the following code."
      ]
    },
    {
      "cell_type": "code",
      "execution_count": null,
      "metadata": {
        "id": "abYQk8KK1EkO"
      },
      "outputs": [],
      "source": [
        "# first just plot test scores\n",
        "# x axis - a list of the values for number of estimators\n",
        "x = ___\n",
        "# two arguments to plot are the x axis values and the y axis values\n",
        "# y axis - list of test scores\n",
        "plt.plot(x, ___)\n",
        "# finally need to show the plots\n",
        "plt.show()"
      ]
    },
    {
      "cell_type": "code",
      "execution_count": null,
      "metadata": {
        "id": "cC14DTcZ1EkP"
      },
      "outputs": [],
      "source": [
        "# now plot train and test scores\n",
        "# x axis - a list of the values for number of estimators\n",
        "x = ___\n",
        "# y axis - list of train scores\n",
        "# two arguments to plot are the x axis values and the y axis values\n",
        "\n",
        "plt.plot(x , ___)\n",
        "# do another plot, with same x axis, and on the y axis - list of test scores\n",
        "plt.plot(x,___)\n",
        "# finally need to show the plots\n",
        "plt.show()"
      ]
    },
    {
      "cell_type": "markdown",
      "metadata": {
        "id": "7Wo2P5dn1EkP"
      },
      "source": [
        "<h2>Question 3</h2>\n",
        " Build an MLP model, and print the score on train and test."
      ]
    },
    {
      "cell_type": "code",
      "execution_count": null,
      "metadata": {
        "id": "2X6zIPg81EkP"
      },
      "outputs": [],
      "source": []
    },
    {
      "cell_type": "markdown",
      "metadata": {
        "id": "e35zvipB1EkP"
      },
      "source": [
        "<h2>Question 4</h2>\n",
        "Now try mlp models with different values for the hidden layer size. Try with a single hidden layer, with sizes ranging from 1 to 100, incremented by 5. (Use the MLP parameter, hidden_layer_sizes, which takes a value as a tuple -- for a single hidden layer, just one value in parenthesis.) Save the train and test scores in two lists."
      ]
    },
    {
      "cell_type": "code",
      "execution_count": null,
      "metadata": {
        "id": "VkfrXYZ11EkP"
      },
      "outputs": [],
      "source": []
    },
    {
      "cell_type": "markdown",
      "metadata": {
        "id": "Zbq9GulG1EkQ"
      },
      "source": [
        "<h2>Question 5</h2>\n",
        "Make a line plot of train and test scores for the mlp models with the different hidden layer sizes."
      ]
    },
    {
      "cell_type": "code",
      "execution_count": null,
      "metadata": {
        "id": "Y9JoesMH1EkQ"
      },
      "outputs": [],
      "source": [
        "# x axis - a list of the values for number of estimators\n",
        "x = ___\n",
        "# y axis - list of train scores\n",
        "# two arguments to plot are the x axis values and the y axis values\n",
        "plt.plot(x, ___)\n",
        "# do another plot, with same x axis, and on the y axis - list of test scores\n",
        "plt.plot(x,___)\n",
        "# finally need to show the plots\n",
        "plt.show()"
      ]
    },
    {
      "cell_type": "markdown",
      "metadata": {
        "id": "DMeAT5w41EkQ"
      },
      "source": [
        "<h2>Question 6</h2>\n",
        "Read the HomesSoldHellerup.csv file, using read_csv (note that the separator is a semicolon and not a comma, which is the default). Display the different values for the Type feature, using value_counts. Do the same with Type of Sale."
      ]
    },
    {
      "cell_type": "code",
      "execution_count": null,
      "metadata": {
        "id": "8YsFkb-l1EkQ"
      },
      "outputs": [],
      "source": [
        "drive_path = '/content/drive/MyDrive/BDA 2024/session4/' # put your path here\n",
        "file = drive_path + 'HomesSoldHellerup.csv'\n"
      ]
    },
    {
      "cell_type": "markdown",
      "metadata": {
        "id": "GLZ4mk2Z1EkQ"
      },
      "source": [
        "<h2>Question 7</h2>\n",
        "We assign to X a list of the features, m2 and Build Year, and the target value y is Price, as shown below. Perform a train-test split, and then create a Linear Regression model. Print the score for train and test."
      ]
    },
    {
      "cell_type": "code",
      "execution_count": null,
      "metadata": {
        "id": "oMlpJsnF1EkQ"
      },
      "outputs": [],
      "source": [
        "\n",
        "\n"
      ]
    },
    {
      "cell_type": "markdown",
      "metadata": {
        "id": "QQ97GGKB1EkR"
      },
      "source": [
        "<h2>Question 8</h2>\n",
        "Add the ZipCode feature to X. Then redo the train-test split, and create a Linear Regression model. Print the score for train and test."
      ]
    },
    {
      "cell_type": "code",
      "execution_count": null,
      "metadata": {
        "id": "JKjzzbD61EkR"
      },
      "outputs": [],
      "source": [
        "\n",
        "\n"
      ]
    },
    {
      "cell_type": "markdown",
      "metadata": {
        "id": "5I3NH2Ml4xWb"
      },
      "source": [
        "<h2>Question 8a</h2>\n",
        "\n",
        "Does adding ZipCode substantially improve the score for the linear regressor? Why do you think this is?"
      ]
    },
    {
      "cell_type": "markdown",
      "metadata": {
        "id": "Mym_slsi461B"
      },
      "source": []
    },
    {
      "cell_type": "markdown",
      "metadata": {
        "id": "NwlpIDe91EkR"
      },
      "source": [
        "<h2> Question 9</h2>\n",
        "Build a Random Forest regressor for this data. Set random_state, with otherwise default settings, and print train and test scores."
      ]
    },
    {
      "cell_type": "code",
      "execution_count": null,
      "metadata": {
        "id": "DMvyHyv11EkR"
      },
      "outputs": [],
      "source": []
    },
    {
      "cell_type": "markdown",
      "metadata": {
        "id": "o1BIHJxK4_9U"
      },
      "source": [
        "<h2>Question 9a</h2>\n",
        "\n",
        "How do the results for RF regressor compare with those of the linear regressor? Try to come up with an explanation for the difference."
      ]
    },
    {
      "cell_type": "markdown",
      "metadata": {
        "id": "vRgopMQ95B_W"
      },
      "source": []
    }
  ],
  "metadata": {
    "colab": {
      "provenance": []
    },
    "kernelspec": {
      "display_name": "Python 3",
      "language": "python",
      "name": "python3"
    },
    "language_info": {
      "codemirror_mode": {
        "name": "ipython",
        "version": 3
      },
      "file_extension": ".py",
      "mimetype": "text/x-python",
      "name": "python",
      "nbconvert_exporter": "python",
      "pygments_lexer": "ipython3",
      "version": "3.12.6"
    }
  },
  "nbformat": 4,
  "nbformat_minor": 0
}
