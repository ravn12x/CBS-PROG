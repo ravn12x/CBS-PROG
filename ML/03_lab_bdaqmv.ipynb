{
  "cells": [
    {
      "cell_type": "markdown",
      "metadata": {
        "id": "mLkzEFoNCtyG"
      },
      "source": [
        "# Lab 3: More supervised learning (linear models)\n",
        "\n",
        "Your objectives for this lab are to:\n",
        "* perform a regression task with `LinearRegression` and interpret its outputs,\n",
        "* implement L1 (`Lasso`) and L2 (`Ridge`) regularization to understand how they affect coefficients in a linear regression model, and\n",
        "* perform a classification task with `LogisticRegression`, interpret its outputs, and adjust the regularization strenght (`C`)."
      ]
    },
    {
      "cell_type": "markdown",
      "metadata": {
        "id": "7cw4SBHjEwPT"
      },
      "source": [
        "First, make the necessary imports for today with the code below."
      ]
    },
    {
      "cell_type": "code",
      "execution_count": null,
      "metadata": {
        "id": "8NEvrp7aan96"
      },
      "outputs": [],
      "source": [
        "import numpy as np\n",
        "import pandas as pd\n",
        "import warnings\n",
        "\n",
        "\n",
        "from sklearn.linear_model import LinearRegression\n",
        "from sklearn.linear_model import Ridge\n",
        "from sklearn.linear_model import Lasso\n",
        "from sklearn.linear_model import LogisticRegression\n",
        "from sklearn.model_selection import train_test_split\n",
        "from sklearn.datasets import fetch_california_housing\n",
        "from sklearn.exceptions import ConvergenceWarning\n",
        "warnings.simplefilter(\"ignore\", ConvergenceWarning)"
      ]
    },
    {
      "cell_type": "markdown",
      "metadata": {
        "id": "6F_WJkiHan97"
      },
      "source": [
        "# Part 1: Regression"
      ]
    },
    {
      "cell_type": "markdown",
      "metadata": {
        "id": "i1YK1L16FxR4"
      },
      "source": [
        "Your first task is to implement linear regression models to predict the median property for different residential districts. Since property prices can, in prinple, range from zero to infinity, this is a regression task — we want our models to output a continuous value, not a categorical class label.\n",
        "\n",
        "For this exercise, we'll use the California housing dataset provided by `sklearn`. Take a couple minutes to familiarize yourself with the data here: https://scikit-learn.org/stable/datasets/real_world.html#california-housing-dataset. Then, read in the dataset with the code below:"
      ]
    },
    {
      "cell_type": "code",
      "execution_count": 6,
      "metadata": {
        "id": "quhxkf2xHGYT"
      },
      "outputs": [
        {
          "data": {
            "text/html": [
              "<div>\n",
              "<style scoped>\n",
              "    .dataframe tbody tr th:only-of-type {\n",
              "        vertical-align: middle;\n",
              "    }\n",
              "\n",
              "    .dataframe tbody tr th {\n",
              "        vertical-align: top;\n",
              "    }\n",
              "\n",
              "    .dataframe thead th {\n",
              "        text-align: right;\n",
              "    }\n",
              "</style>\n",
              "<table border=\"1\" class=\"dataframe\">\n",
              "  <thead>\n",
              "    <tr style=\"text-align: right;\">\n",
              "      <th></th>\n",
              "      <th>MedInc</th>\n",
              "      <th>HouseAge</th>\n",
              "      <th>AveRooms</th>\n",
              "      <th>AveBedrms</th>\n",
              "      <th>Population</th>\n",
              "      <th>AveOccup</th>\n",
              "      <th>Latitude</th>\n",
              "      <th>Longitude</th>\n",
              "      <th>MedHouseVal</th>\n",
              "    </tr>\n",
              "  </thead>\n",
              "  <tbody>\n",
              "    <tr>\n",
              "      <th>0</th>\n",
              "      <td>8.3252</td>\n",
              "      <td>41.0</td>\n",
              "      <td>6.984127</td>\n",
              "      <td>1.023810</td>\n",
              "      <td>322.0</td>\n",
              "      <td>2.555556</td>\n",
              "      <td>37.88</td>\n",
              "      <td>-122.23</td>\n",
              "      <td>4.526</td>\n",
              "    </tr>\n",
              "    <tr>\n",
              "      <th>1</th>\n",
              "      <td>8.3014</td>\n",
              "      <td>21.0</td>\n",
              "      <td>6.238137</td>\n",
              "      <td>0.971880</td>\n",
              "      <td>2401.0</td>\n",
              "      <td>2.109842</td>\n",
              "      <td>37.86</td>\n",
              "      <td>-122.22</td>\n",
              "      <td>3.585</td>\n",
              "    </tr>\n",
              "    <tr>\n",
              "      <th>2</th>\n",
              "      <td>7.2574</td>\n",
              "      <td>52.0</td>\n",
              "      <td>8.288136</td>\n",
              "      <td>1.073446</td>\n",
              "      <td>496.0</td>\n",
              "      <td>2.802260</td>\n",
              "      <td>37.85</td>\n",
              "      <td>-122.24</td>\n",
              "      <td>3.521</td>\n",
              "    </tr>\n",
              "    <tr>\n",
              "      <th>3</th>\n",
              "      <td>5.6431</td>\n",
              "      <td>52.0</td>\n",
              "      <td>5.817352</td>\n",
              "      <td>1.073059</td>\n",
              "      <td>558.0</td>\n",
              "      <td>2.547945</td>\n",
              "      <td>37.85</td>\n",
              "      <td>-122.25</td>\n",
              "      <td>3.413</td>\n",
              "    </tr>\n",
              "    <tr>\n",
              "      <th>4</th>\n",
              "      <td>3.8462</td>\n",
              "      <td>52.0</td>\n",
              "      <td>6.281853</td>\n",
              "      <td>1.081081</td>\n",
              "      <td>565.0</td>\n",
              "      <td>2.181467</td>\n",
              "      <td>37.85</td>\n",
              "      <td>-122.25</td>\n",
              "      <td>3.422</td>\n",
              "    </tr>\n",
              "  </tbody>\n",
              "</table>\n",
              "</div>"
            ],
            "text/plain": [
              "   MedInc  HouseAge  AveRooms  AveBedrms  Population  AveOccup  Latitude  \\\n",
              "0  8.3252      41.0  6.984127   1.023810       322.0  2.555556     37.88   \n",
              "1  8.3014      21.0  6.238137   0.971880      2401.0  2.109842     37.86   \n",
              "2  7.2574      52.0  8.288136   1.073446       496.0  2.802260     37.85   \n",
              "3  5.6431      52.0  5.817352   1.073059       558.0  2.547945     37.85   \n",
              "4  3.8462      52.0  6.281853   1.081081       565.0  2.181467     37.85   \n",
              "\n",
              "   Longitude  MedHouseVal  \n",
              "0    -122.23        4.526  \n",
              "1    -122.22        3.585  \n",
              "2    -122.24        3.521  \n",
              "3    -122.25        3.413  \n",
              "4    -122.25        3.422  "
            ]
          },
          "execution_count": 6,
          "metadata": {},
          "output_type": "execute_result"
        }
      ],
      "source": [
        "housing = fetch_california_housing(as_frame=True)\n",
        "housing = housing.frame\n",
        "housing.head()\n"
      ]
    },
    {
      "cell_type": "markdown",
      "metadata": {
        "id": "LzcaVStaan98"
      },
      "source": [
        "## Question 1\n",
        "\n",
        "Now let's implement a standard `LinearRegression` model: First, split `housing` into a training set and a test set. Then, fit the model to the training set. Finally, print the model's score (the R-squared) on traing and test set."
      ]
    },
    {
      "cell_type": "code",
      "execution_count": 10,
      "metadata": {},
      "outputs": [
        {
          "name": "stdout",
          "output_type": "stream",
          "text": [
            "MedInc         0\n",
            "HouseAge       0\n",
            "AveRooms       0\n",
            "AveBedrms      0\n",
            "Population     0\n",
            "AveOccup       0\n",
            "Latitude       0\n",
            "Longitude      0\n",
            "MedHouseVal    0\n",
            "dtype: int64\n"
          ]
        }
      ],
      "source": [
        "\n",
        "print(housing.isnull().sum())"
      ]
    },
    {
      "cell_type": "code",
      "execution_count": 11,
      "metadata": {
        "id": "agqDP5BEan98"
      },
      "outputs": [
        {
          "name": "stdout",
          "output_type": "stream",
          "text": [
            "0.6038296826740983\n",
            "0.6086510210510824\n"
          ]
        }
      ],
      "source": [
        "cleandf= housing.drop(['MedHouseVal'], axis=1)\n",
        "\n",
        "x=cleandf\n",
        "y=housing['MedHouseVal']\n",
        "x_train, x_test, y_train, y_test = train_test_split(x,y, test_size=0.3)\n",
        "\n",
        "Lreg= LinearRegression()\n",
        "\n",
        "Lreg.fit(x_train,y_train)\n",
        "\n",
        "print(Lreg.score(x_train,y_train))\n",
        "print(Lreg.score(x_test,y_test))\n",
        "\n"
      ]
    },
    {
      "cell_type": "markdown",
      "metadata": {
        "id": "q5c7ae_awOiN"
      },
      "source": [
        "\n",
        "\n",
        "## Question 2\n",
        "\n",
        "Now that you have a `LinearRegression` model that's been fitted to the training data, use the code below to print the model coefficients. Then, in the text cell below, write out your interpretation of the coefficients (e.g., Which attribute is most strongly associated with property prices? What does that tell you?)\n"
      ]
    },
    {
      "cell_type": "code",
      "execution_count": 14,
      "metadata": {
        "id": "xVg7xWdnIv7Z"
      },
      "outputs": [
        {
          "name": "stdout",
          "output_type": "stream",
          "text": [
            "[ 4.46632963e-01  9.17640574e-03 -1.24596160e-01  6.51851876e-01\n",
            " -6.83475637e-06 -3.95157466e-03 -4.08478902e-01 -4.21780813e-01]\n"
          ]
        }
      ],
      "source": [
        "print(Lreg.coef_)\n",
        "\n",
        "\n"
      ]
    },
    {
      "cell_type": "markdown",
      "metadata": {
        "id": "19ntcJLiLutD"
      },
      "source": [
        "*...write your interpretation of the coefficients here!*\n",
        "\n",
        "so median income house age and average bedrooms seem to be the largest drivers of price but it is worth noting in the lecture that correlation does not equal causation\n"
      ]
    },
    {
      "cell_type": "markdown",
      "metadata": {
        "id": "Q0CDVWcsan98"
      },
      "source": [
        "## Question 3\n",
        "\n",
        "Now let's implement a `Ridge` regression model. Just like you did above, fit the model to the training data, then print the model's scores on the training and test set... how do the scores compare to the scores output by the `LinearRegression` model?\n",
        "\n",
        "(*Hint: the scores should be about the same, unless you tinker with the `alpha` hyperparameter*)"
      ]
    },
    {
      "cell_type": "code",
      "execution_count": 15,
      "metadata": {
        "id": "CmNzB31dan98"
      },
      "outputs": [
        {
          "name": "stdout",
          "output_type": "stream",
          "text": [
            "0.6069488918417678\n",
            "0.6014616750717642\n"
          ]
        }
      ],
      "source": [
        "x=cleandf\n",
        "y=housing['MedHouseVal']\n",
        "x_train, x_test, y_train, y_test = train_test_split(x,y, test_size=0.3)\n",
        "\n",
        "Rreg= Ridge()\n",
        "\n",
        "Rreg.fit(x_train,y_train)\n",
        "\n",
        "print(Rreg.score(x_train,y_train))\n",
        "print(Rreg.score(x_test,y_test))\n",
        "\n"
      ]
    },
    {
      "cell_type": "markdown",
      "metadata": {
        "id": "Oqtg4Ws3PcGP"
      },
      "source": [
        "## Question 4\n",
        "\n",
        "Now implement a `Lasso` regression model. Once again, fit the model to the training data, then print the model's scores on the training and test set... how do the scores compare to the scores output by the `LinearRegression` model?\n",
        "\n",
        "(*Hint: the scores should **not** be the same*)"
      ]
    },
    {
      "cell_type": "code",
      "execution_count": 16,
      "metadata": {
        "id": "7m65oFWCPUIt"
      },
      "outputs": [
        {
          "name": "stdout",
          "output_type": "stream",
          "text": [
            "0.284841052997165\n",
            "0.28821144009175437\n"
          ]
        }
      ],
      "source": [
        "x=cleandf\n",
        "y=housing['MedHouseVal']\n",
        "x_train, x_test, y_train, y_test = train_test_split(x,y, test_size=0.3)\n",
        "\n",
        "Lareg= Lasso()\n",
        "\n",
        "Lareg.fit(x_train,y_train)\n",
        "\n",
        "print(Lareg.score(x_train,y_train))\n",
        "print(Lareg.score(x_test,y_test))\n",
        "\n"
      ]
    },
    {
      "cell_type": "markdown",
      "metadata": {
        "id": "Q3WR3q1uQ9hm"
      },
      "source": [
        "## Question 5\n",
        "\n",
        "Inspect the coefficients from all three models side-by-side: Create and print a dataframe with all the coefficients such that there's a row for each attribute in the `housing` dataset, and a column for each of your models (linear regression, ridge, and lasso)."
      ]
    },
    {
      "cell_type": "code",
      "execution_count": null,
      "metadata": {
        "id": "Um6QZLNWP-6q"
      },
      "outputs": [
        {
          "name": "stdout",
          "output_type": "stream",
          "text": [
            "            Linear Regression     Ridge     Lasso\n",
            "MedInc               0.446633  0.445226  0.146006\n",
            "HouseAge             0.009176  0.009452  0.005672\n",
            "AveRooms            -0.124596 -0.120786  0.000000\n",
            "AveBedrms            0.651852  0.775427 -0.000000\n",
            "Population          -0.000007 -0.000007 -0.000010\n",
            "AveOccup            -0.003952 -0.003874 -0.000000\n",
            "Latitude            -0.408479 -0.420074 -0.000000\n",
            "Longitude           -0.421781 -0.432640 -0.000000\n"
          ]
        }
      ],
      "source": [
        "coefficients = {\n",
        "    'Linear Regression': Lreg.coef_,\n",
        "    'Ridge': Rreg.coef_,\n",
        "    'Lasso': Lareg.coef_\n",
        "}\n",
        "\n",
        "coeff_df = pd.DataFrame(coefficients, index=cleandf.columns)\n",
        "print(coeff_df)\n",
        "\n",
        "\n"
      ]
    },
    {
      "cell_type": "markdown",
      "metadata": {
        "id": "pNrhs6OCdKfR"
      },
      "source": [
        "## Question 6\n",
        "\n",
        "Write down your interpretation of the coefficients. How do the coefficients differ across models? What can we infer from this?"
      ]
    },
    {
      "cell_type": "markdown",
      "metadata": {
        "id": "tNiMnlMTTy0V"
      },
      "source": [
        "*...write your interpretation of the coefficients here!*\n",
        "\n",
        "The coefficients differ due to regularization which is applied to both the ridge and lasso model with ridge using L1 it cannot reach as high of a coefficient as standard linear due to the penalty placed on large coefficients. Lasso instead picked the relevant variables using L2 ultimately showing coefficients with a value of 0"
      ]
    },
    {
      "cell_type": "markdown",
      "metadata": {
        "id": "bByCcO5han99"
      },
      "source": [
        "# Part 2: Classification\n",
        "\n",
        "Your next task is to implement a logistic regression model to predict which customers of a telecommunications company will churn or not. Since we want a model that outputs a discrete class label — \"churn\" or \"no churn\" — this is a classification task.\n",
        "\n",
        "For this exercise, we'll use a dataset called `telco.csv`. Each row represents a customer and there are many attributes describing each customer (e.g., `tenure` records the number of months the customer has been with the company; `PaperlessBilling` records whether the customer has paperless billing or not). The target variable is `Churn`, where 0 indicates no churn and 1 indicates churn."
      ]
    },
    {
      "cell_type": "markdown",
      "metadata": {
        "id": "6UxsnUVnYrDq"
      },
      "source": [
        "## Question 7\n",
        "\n",
        "There are several different ways to import an external data file to colab (see here: https://www.geeksforgeeks.org/ways-to-import-csv-files-in-google-colab/).\n",
        "\n",
        "Perhaps the simplest way is to import the file manually with the following steps:\n",
        "1. Download the data file (`telco.csv`) to your own device\n",
        "2. Click the file icon on the left-side bar of this colab window\n",
        "3. Drag and drop the data file into the file menu to the left\n",
        "4. Run the following code to read in the data file: `df = pd.read_csv(\"telco.csv\")`"
      ]
    },
    {
      "cell_type": "markdown",
      "metadata": {
        "id": "_Oj4sETdVrzb"
      },
      "source": [
        "Now you try. Import the `telco.csv` data file with whatever method you prefer and define it as a pandas dataframe called `df`."
      ]
    },
    {
      "cell_type": "code",
      "execution_count": 42,
      "metadata": {
        "id": "Baq6Jo3OVroL"
      },
      "outputs": [],
      "source": [
        "\n",
        "df = pd.read_csv(\"telco.csv\")\n",
        "df.head()\n",
        "cleandf= df.drop(['Churn'], axis=1)\n"
      ]
    },
    {
      "cell_type": "code",
      "execution_count": 43,
      "metadata": {},
      "outputs": [
        {
          "name": "stdout",
          "output_type": "stream",
          "text": [
            "tenure                                   0\n",
            "Partner                                  0\n",
            "Dependents                               0\n",
            "gender                                   0\n",
            "PhoneService                             0\n",
            "PaperlessBilling                         0\n",
            "MonthlyCharges                           0\n",
            "TotalCharges                             0\n",
            "MultipleLines_No phone service           0\n",
            "MultipleLines_Yes                        0\n",
            "InternetService_Fiber optic              0\n",
            "InternetService_No                       0\n",
            "OnlineSecurity_No internet service       0\n",
            "OnlineSecurity_Yes                       0\n",
            "OnlineBackup_No internet service         0\n",
            "OnlineBackup_Yes                         0\n",
            "DeviceProtection_No internet service     0\n",
            "DeviceProtection_Yes                     0\n",
            "TechSupport_No internet service          0\n",
            "TechSupport_Yes                          0\n",
            "StreamingTV_No internet service          0\n",
            "StreamingTV_Yes                          0\n",
            "StreamingMovies_No internet service      0\n",
            "StreamingMovies_Yes                      0\n",
            "Contract_One year                        0\n",
            "Contract_Two year                        0\n",
            "PaymentMethod_Credit card (automatic)    0\n",
            "PaymentMethod_Electronic check           0\n",
            "PaymentMethod_Mailed check               0\n",
            "Churn                                    0\n",
            "dtype: int64\n"
          ]
        }
      ],
      "source": [
        "print(df.isnull().sum())"
      ]
    },
    {
      "cell_type": "code",
      "execution_count": 44,
      "metadata": {},
      "outputs": [
        {
          "name": "stdout",
          "output_type": "stream",
          "text": [
            "(7032, 29) (7032,)\n"
          ]
        }
      ],
      "source": [
        "x=cleandf\n",
        "print(x.shape, y.shape)"
      ]
    },
    {
      "cell_type": "markdown",
      "metadata": {},
      "source": [
        "Don't ask why i did this it is witchcraft and i refuse to elaborate."
      ]
    },
    {
      "cell_type": "markdown",
      "metadata": {
        "id": "n9zmrOr4bo2e"
      },
      "source": [
        "## Question 8\n",
        "\n",
        "Define `X` and `y`, and then make a train-test split. Set `stratify=y` to ensure that the distribution of class labels present in all the data is reflected in both the training and test sets."
      ]
    },
    {
      "cell_type": "code",
      "execution_count": 50,
      "metadata": {
        "id": "x6lbUzkTbpH7"
      },
      "outputs": [],
      "source": [
        "\n",
        "y=df['Churn']\n",
        "x_train, x_test, y_train, y_test = train_test_split(x,y, test_size=0.3, stratify=y)\n"
      ]
    },
    {
      "cell_type": "markdown",
      "metadata": {
        "id": "TgfDQVSJVrez"
      },
      "source": [
        "## Question 9\n",
        "\n",
        "Implement a `LogisticRegression` model to classify churn: fit the model to the training data, then print the model's scores on the training and test set\n",
        "\n",
        "(*Hint: If you get a warning message about model convergence, try setting `max_iter=1000` when defining your `LogisticRegression`.*)"
      ]
    },
    {
      "cell_type": "code",
      "execution_count": 47,
      "metadata": {
        "id": "ETIa3KHCVrQu"
      },
      "outputs": [
        {
          "name": "stdout",
          "output_type": "stream",
          "text": [
            "0.8055668427468509\n",
            "0.7985781990521327\n"
          ]
        }
      ],
      "source": [
        "Loreg= LogisticRegression()\n",
        "\n",
        "Loreg.fit(x_train,y_train)\n",
        "\n",
        "print(Loreg.score(x_train,y_train))\n",
        "print(Loreg.score(x_test,y_test))\n",
        "\n"
      ]
    },
    {
      "cell_type": "markdown",
      "metadata": {
        "id": "oiKEFpovVq7X"
      },
      "source": [
        "## Question 10\n",
        "\n",
        "Inspect the coefficients (sorted by coefficient values) and write down your interpretation of them... Which attribute is the strongest predictor of churn? What does the coefficient value tell you?\n",
        "\n",
        "(*Hint: remember the log-odds scale?*)"
      ]
    },
    {
      "cell_type": "code",
      "execution_count": 48,
      "metadata": {
        "id": "jVuYgou6d7Fs"
      },
      "outputs": [
        {
          "name": "stdout",
          "output_type": "stream",
          "text": [
            "[[-7.81432322e-02 -9.59762700e-02 -2.66665089e-01  2.37067624e-02\n",
            "  -2.45501037e-01  3.36740539e-01  6.91307589e-03  4.41243842e-04\n",
            "   1.10862015e-01  2.63128924e-01  3.75717490e-01 -1.21621524e-01\n",
            "  -1.21621524e-01 -4.76278125e-01 -1.21621524e-01 -1.26196592e-01\n",
            "  -1.21621524e-01 -1.36154436e-01 -1.21621524e-01 -4.57065568e-01\n",
            "  -1.21621524e-01  4.61277156e-02 -1.21621524e-01  2.39546192e-02\n",
            "  -2.24468153e-01 -3.48078374e-01 -1.58441786e-01  3.85777877e-01\n",
            "  -2.63445363e-01]]\n"
          ]
        }
      ],
      "source": [
        "\n",
        "print(Loreg.coef_)\n"
      ]
    },
    {
      "cell_type": "markdown",
      "metadata": {
        "id": "DmD9LEwdVyIp"
      },
      "source": [
        "*...write your interpretation of the coefficients here!*\n"
      ]
    },
    {
      "cell_type": "markdown",
      "metadata": {
        "id": "bi9COEW3f54m"
      },
      "source": [
        "## Question 11\n",
        "\n",
        "Just like a linear regression model can be regularized with the L1 (`Lasso`) and L2 (`Ridge`) penalties, so too can logistic regression. But unlike with `LinearRegression`, regularizing `LogisticRegression` just involves adjusting its hyperparameters — namely, `C` (the inverse regularization strength) and `penalty` (which penalty term to apply).\n",
        "\n",
        "Write a loop to test many different values for the `C` hyperparameter for `LogisticRegression`. Create a list of results, with the training score, test score, and `C` value. Print the list, sorted by test score.\n"
      ]
    },
    {
      "cell_type": "code",
      "execution_count": 53,
      "metadata": {
        "id": "NuN55QOxan9-"
      },
      "outputs": [
        {
          "name": "stdout",
          "output_type": "stream",
          "text": [
            "C values sorted by test score:\n",
            "C: 1, Train Score: 0.8039, Test Score: 0.8062\n",
            "C: 100, Train Score: 0.8039, Test Score: 0.8062\n",
            "C: 0.1, Train Score: 0.8066, Test Score: 0.8052\n",
            "C: 10, Train Score: 0.8043, Test Score: 0.8047\n",
            "C: 0.01, Train Score: 0.8015, Test Score: 0.8033\n"
          ]
        }
      ],
      "source": [
        "C_values = [0.01, 0.1, 1, 10, 100]\n",
        "results = []\n",
        "x_train, x_test, y_train, y_test = train_test_split(x,y, test_size=0.3, stratify=y)\n",
        "\n",
        "for C in C_values:\n",
        "    Loreg = LogisticRegression(C=C, max_iter=1000).fit(x_train, y_train)\n",
        "    train_score = Loreg.score(x_train, y_train)\n",
        "    test_score = Loreg.score(x_test, y_test)\n",
        "    results.append((C, train_score, test_score))\n",
        "\n",
        "# Sort by test score\n",
        "sorted_results = sorted(results, key=lambda x: x[2], reverse=True)\n",
        "print(\"C values sorted by test score:\")\n",
        "for res in sorted_results:\n",
        "    print(f\"C: {res[0]}, Train Score: {res[1]:.4f}, Test Score: {res[2]:.4f}\")\n",
        "\n"
      ]
    }
  ],
  "metadata": {
    "colab": {
      "provenance": []
    },
    "kernelspec": {
      "display_name": "Python 3",
      "language": "python",
      "name": "python3"
    },
    "language_info": {
      "codemirror_mode": {
        "name": "ipython",
        "version": 3
      },
      "file_extension": ".py",
      "mimetype": "text/x-python",
      "name": "python",
      "nbconvert_exporter": "python",
      "pygments_lexer": "ipython3",
      "version": "3.12.6"
    }
  },
  "nbformat": 4,
  "nbformat_minor": 0
}
